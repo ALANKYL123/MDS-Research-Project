{
 "cells": [
  {
   "cell_type": "markdown",
   "id": "efb76457",
   "metadata": {},
   "source": [
    "## Data Scaping using Snscrape"
   ]
  },
  {
   "cell_type": "code",
   "execution_count": 1,
   "id": "e3b0bbc3",
   "metadata": {},
   "outputs": [],
   "source": [
    "import snscrape.modules.twitter as sntwitter\n",
    "import pandas as pd"
   ]
  },
  {
   "cell_type": "code",
   "execution_count": 2,
   "id": "e92367cc",
   "metadata": {
    "scrolled": true
   },
   "outputs": [],
   "source": [
    "# expanding the dislpay of tweet text\n",
    "pd.set_option('display.max_colwidth', None)"
   ]
  },
  {
   "cell_type": "markdown",
   "id": "785a74fb",
   "metadata": {},
   "source": [
    "## Sunway University"
   ]
  },
  {
   "cell_type": "code",
   "execution_count": 3,
   "id": "fa7f208a",
   "metadata": {},
   "outputs": [],
   "source": [
    "# Creating list to append tweet data to\n",
    "attributes_container = []\n",
    "\n",
    "# Using TwitterSearchScraper to scrape data and append tweets to list based on the keywords and hashtags in certain period.\n",
    "for i,tweet in enumerate(sntwitter.TwitterSearchScraper('sunway university since:2021-01-01 until:2022-10-01').get_items()):\n",
    "    if i>499:\n",
    "        break\n",
    "    attributes_container.append([tweet.user.username, tweet.date, tweet.likeCount, tweet.sourceLabel, tweet.content, \n",
    "                                 tweet.retweetedTweet, tweet.lang, tweet.user.location])\n",
    "    \n",
    "for i,tweet in enumerate(sntwitter.TwitterSearchScraper('#sunwayuniversity since:2021-01-01 until:2022-10-01').get_items()):\n",
    "    if i>499:\n",
    "        break\n",
    "    attributes_container.append([tweet.user.username, tweet.date, tweet.likeCount, tweet.sourceLabel, tweet.content, \n",
    "                                 tweet.retweetedTweet, tweet.lang, tweet.user.location])\n",
    "    \n",
    "for i,tweet in enumerate(sntwitter.TwitterSearchScraper('#sunwayuni since:2021-01-01 until:2022-10-01').get_items()):\n",
    "    if i>499:\n",
    "        break\n",
    "    attributes_container.append([tweet.user.username, tweet.date, tweet.likeCount, tweet.sourceLabel, tweet.content, \n",
    "                                 tweet.retweetedTweet, tweet.lang, tweet.user.location])\n",
    "    \n",
    "# Creating a dataframe to load the list\n",
    "sunway_tweets_df = pd.DataFrame(attributes_container, columns=[\"User\", \"Date_Created\", \"Number_of_Likes\", \n",
    "                                                               \"Source_of_Tweet\", \"Tweet\", \"Retweeted_Tweets\",\n",
    "                                                              \"Language\", \"Location\"])"
   ]
  },
  {
   "cell_type": "code",
   "execution_count": 4,
   "id": "bcc1d73d",
   "metadata": {},
   "outputs": [
    {
     "data": {
      "text/plain": [
       "(614, 8)"
      ]
     },
     "execution_count": 4,
     "metadata": {},
     "output_type": "execute_result"
    }
   ],
   "source": [
    "# Display the dimension of the dataframe (number of rows and columns)\n",
    "sunway_tweets_df.shape"
   ]
  },
  {
   "cell_type": "code",
   "execution_count": 5,
   "id": "ed58409d",
   "metadata": {},
   "outputs": [],
   "source": [
    "# Export dataframe to csv\n",
    "sunway_tweets_df.to_csv('sunway_tweets.csv', index=False) "
   ]
  },
  {
   "cell_type": "code",
   "execution_count": 6,
   "id": "f3edda44",
   "metadata": {
    "scrolled": true
   },
   "outputs": [
    {
     "data": {
      "text/html": [
       "<div>\n",
       "<style scoped>\n",
       "    .dataframe tbody tr th:only-of-type {\n",
       "        vertical-align: middle;\n",
       "    }\n",
       "\n",
       "    .dataframe tbody tr th {\n",
       "        vertical-align: top;\n",
       "    }\n",
       "\n",
       "    .dataframe thead th {\n",
       "        text-align: right;\n",
       "    }\n",
       "</style>\n",
       "<table border=\"1\" class=\"dataframe\">\n",
       "  <thead>\n",
       "    <tr style=\"text-align: right;\">\n",
       "      <th></th>\n",
       "      <th>User</th>\n",
       "      <th>Date_Created</th>\n",
       "      <th>Number_of_Likes</th>\n",
       "      <th>Source_of_Tweet</th>\n",
       "      <th>Tweet</th>\n",
       "      <th>Retweeted_Tweets</th>\n",
       "      <th>Language</th>\n",
       "      <th>Location</th>\n",
       "    </tr>\n",
       "  </thead>\n",
       "  <tbody>\n",
       "    <tr>\n",
       "      <th>0</th>\n",
       "      <td>jkmkhoo</td>\n",
       "      <td>2022-09-29 13:30:47+00:00</td>\n",
       "      <td>2</td>\n",
       "      <td>Twitter Web App</td>\n",
       "      <td>@Karl_A_Miller This restaurant at near Sunway University might suit a British palette well 😉  https://t.co/nfirVM3Uzl</td>\n",
       "      <td>None</td>\n",
       "      <td>en</td>\n",
       "      <td>Nottingham, England</td>\n",
       "    </tr>\n",
       "    <tr>\n",
       "      <th>1</th>\n",
       "      <td>eurospan</td>\n",
       "      <td>2022-09-29 09:46:32+00:00</td>\n",
       "      <td>0</td>\n",
       "      <td>Twitter Web App</td>\n",
       "      <td>Exciting news: Sunway University Press have launched a brand-new short story competition inspired by the UN Sustainable Development Goals. You can find out more on the Eurospan blog now: https://t.co/KIq59fXXHo https://t.co/8gNfzgKKwS</td>\n",
       "      <td>None</td>\n",
       "      <td>en</td>\n",
       "      <td>London, UK</td>\n",
       "    </tr>\n",
       "    <tr>\n",
       "      <th>2</th>\n",
       "      <td>SunwayCPH</td>\n",
       "      <td>2022-09-29 08:30:05+00:00</td>\n",
       "      <td>4</td>\n",
       "      <td>Twitter for iPhone</td>\n",
       "      <td>Check this out! \\n\\nOur Chief Planetary Health Scientist, Dr. @RenzoGuinto is in the latest episode of the Katipunan Dialogue Podcast 🗣️\\n\\n#PlanetaryHealth #SunwayCPH #SunwayUniversity #UPCIDS #Podcast https://t.co/MiwyfSHPO8</td>\n",
       "      <td>None</td>\n",
       "      <td>en</td>\n",
       "      <td>Malaysia</td>\n",
       "    </tr>\n",
       "    <tr>\n",
       "      <th>3</th>\n",
       "      <td>keenguyencaphe</td>\n",
       "      <td>2022-09-29 04:13:02+00:00</td>\n",
       "      <td>5</td>\n",
       "      <td>Twitter for Android</td>\n",
       "      <td>Thus that was an amazing weekend as Kee Nguyễn went on the loose to bring Vietnam's Finest Coffee into Sunway University. Big Kudos to keenguyensunway for all the amazing hardwork and we hope that one sip brings you all to Vietnam or back to Vietnam already 😉\\n\\nGot events? DM https://t.co/nmduRwHv8m</td>\n",
       "      <td>None</td>\n",
       "      <td>en</td>\n",
       "      <td>Malaysia</td>\n",
       "    </tr>\n",
       "    <tr>\n",
       "      <th>4</th>\n",
       "      <td>Mia7Jane</td>\n",
       "      <td>2022-09-28 11:16:17+00:00</td>\n",
       "      <td>1</td>\n",
       "      <td>Twitter for Android</td>\n",
       "      <td>@elee618 He asked :\"Dr Jane from Sunway University?\", but not Dr Jane from Malaysia... 😆 #mosthappeningcampus</td>\n",
       "      <td>None</td>\n",
       "      <td>en</td>\n",
       "      <td>Klang</td>\n",
       "    </tr>\n",
       "  </tbody>\n",
       "</table>\n",
       "</div>"
      ],
      "text/plain": [
       "             User              Date_Created  Number_of_Likes  \\\n",
       "0         jkmkhoo 2022-09-29 13:30:47+00:00                2   \n",
       "1        eurospan 2022-09-29 09:46:32+00:00                0   \n",
       "2       SunwayCPH 2022-09-29 08:30:05+00:00                4   \n",
       "3  keenguyencaphe 2022-09-29 04:13:02+00:00                5   \n",
       "4        Mia7Jane 2022-09-28 11:16:17+00:00                1   \n",
       "\n",
       "       Source_of_Tweet  \\\n",
       "0      Twitter Web App   \n",
       "1      Twitter Web App   \n",
       "2   Twitter for iPhone   \n",
       "3  Twitter for Android   \n",
       "4  Twitter for Android   \n",
       "\n",
       "                                                                                                                                                                                                                                                                                                           Tweet  \\\n",
       "0                                                                                                                                                                                          @Karl_A_Miller This restaurant at near Sunway University might suit a British palette well 😉  https://t.co/nfirVM3Uzl   \n",
       "1                                                                     Exciting news: Sunway University Press have launched a brand-new short story competition inspired by the UN Sustainable Development Goals. You can find out more on the Eurospan blog now: https://t.co/KIq59fXXHo https://t.co/8gNfzgKKwS   \n",
       "2                                                                             Check this out! \\n\\nOur Chief Planetary Health Scientist, Dr. @RenzoGuinto is in the latest episode of the Katipunan Dialogue Podcast 🗣️\\n\\n#PlanetaryHealth #SunwayCPH #SunwayUniversity #UPCIDS #Podcast https://t.co/MiwyfSHPO8   \n",
       "3  Thus that was an amazing weekend as Kee Nguyễn went on the loose to bring Vietnam's Finest Coffee into Sunway University. Big Kudos to keenguyensunway for all the amazing hardwork and we hope that one sip brings you all to Vietnam or back to Vietnam already 😉\\n\\nGot events? DM https://t.co/nmduRwHv8m   \n",
       "4                                                                                                                                                                                                  @elee618 He asked :\"Dr Jane from Sunway University?\", but not Dr Jane from Malaysia... 😆 #mosthappeningcampus   \n",
       "\n",
       "  Retweeted_Tweets Language             Location  \n",
       "0             None       en  Nottingham, England  \n",
       "1             None       en           London, UK  \n",
       "2             None       en             Malaysia  \n",
       "3             None       en             Malaysia  \n",
       "4             None       en                Klang  "
      ]
     },
     "execution_count": 6,
     "metadata": {},
     "output_type": "execute_result"
    }
   ],
   "source": [
    "# Show the first 5 rows of the dataframe\n",
    "sunway_tweets_df.head()"
   ]
  },
  {
   "cell_type": "markdown",
   "id": "9f9b60f7",
   "metadata": {},
   "source": [
    "## Taylor's University"
   ]
  },
  {
   "cell_type": "code",
   "execution_count": 7,
   "id": "a5df4fa1",
   "metadata": {
    "scrolled": false
   },
   "outputs": [],
   "source": [
    "# Creating list to append tweet data to\n",
    "attributes_container = []\n",
    "\n",
    "# Using TwitterSearchScraper to scrape data and append tweets to list\n",
    "for i,tweet in enumerate(sntwitter.TwitterSearchScraper('taylor\\'s university since:2021-01-01 until:2022-10-01').get_items()):\n",
    "    if i>499:\n",
    "        break\n",
    "    attributes_container.append([tweet.user.username, tweet.date, tweet.likeCount, tweet.sourceLabel, tweet.content, \n",
    "                                 tweet.retweetedTweet, tweet.lang, tweet.user.location])\n",
    "\n",
    "    \n",
    "for i,tweet in enumerate(sntwitter.TwitterSearchScraper('#taylorsuniversity since:2021-01-01 until:2022-10-01').get_items()):\n",
    "    if i>499:\n",
    "        break\n",
    "    attributes_container.append([tweet.user.username, tweet.date, tweet.likeCount, tweet.sourceLabel, tweet.content, \n",
    "                                 tweet.retweetedTweet, tweet.lang, tweet.user.location])\n",
    "    \n",
    "for i,tweet in enumerate(sntwitter.TwitterSearchScraper('#taylorsuni since:2021-01-01 until:2022-10-01').get_items()):\n",
    "    if i>499:\n",
    "        break\n",
    "    attributes_container.append([tweet.user.username, tweet.date, tweet.likeCount, tweet.sourceLabel, tweet.content, \n",
    "                                 tweet.retweetedTweet, tweet.lang, tweet.user.location])\n",
    "    \n",
    "# Creating a dataframe to load the list\n",
    "taylor_tweets_df = pd.DataFrame(attributes_container, columns=[\"User\", \"Date_Created\", \"Number_of_Likes\", \n",
    "                                                               \"Source_of_Tweet\", \"Tweet\", \"Retweeted_Tweets\",\n",
    "                                                              \"Language\", \"Location\"])"
   ]
  },
  {
   "cell_type": "code",
   "execution_count": 8,
   "id": "aa833b5a",
   "metadata": {
    "scrolled": true
   },
   "outputs": [
    {
     "data": {
      "text/plain": [
       "(782, 8)"
      ]
     },
     "execution_count": 8,
     "metadata": {},
     "output_type": "execute_result"
    }
   ],
   "source": [
    "# Display the dimension of the dataframe (number of rows and columns)\n",
    "taylor_tweets_df.shape"
   ]
  },
  {
   "cell_type": "code",
   "execution_count": 9,
   "id": "09200910",
   "metadata": {},
   "outputs": [],
   "source": [
    "# Export dataframe to csv\n",
    "taylor_tweets_df.to_csv('taylor_tweets.csv', index=False) "
   ]
  },
  {
   "cell_type": "code",
   "execution_count": 10,
   "id": "9a007d1a",
   "metadata": {
    "scrolled": true
   },
   "outputs": [
    {
     "data": {
      "text/html": [
       "<div>\n",
       "<style scoped>\n",
       "    .dataframe tbody tr th:only-of-type {\n",
       "        vertical-align: middle;\n",
       "    }\n",
       "\n",
       "    .dataframe tbody tr th {\n",
       "        vertical-align: top;\n",
       "    }\n",
       "\n",
       "    .dataframe thead th {\n",
       "        text-align: right;\n",
       "    }\n",
       "</style>\n",
       "<table border=\"1\" class=\"dataframe\">\n",
       "  <thead>\n",
       "    <tr style=\"text-align: right;\">\n",
       "      <th></th>\n",
       "      <th>User</th>\n",
       "      <th>Date_Created</th>\n",
       "      <th>Number_of_Likes</th>\n",
       "      <th>Source_of_Tweet</th>\n",
       "      <th>Tweet</th>\n",
       "      <th>Retweeted_Tweets</th>\n",
       "      <th>Language</th>\n",
       "      <th>Location</th>\n",
       "    </tr>\n",
       "  </thead>\n",
       "  <tbody>\n",
       "    <tr>\n",
       "      <th>0</th>\n",
       "      <td>zulyusmardotcom</td>\n",
       "      <td>2022-09-30 16:54:38+00:00</td>\n",
       "      <td>0</td>\n",
       "      <td>IFTTT</td>\n",
       "      <td>Taylor’s University confers award to Sister Enda Ryan for her contribution in laying the foundation for women’s education in the nation\\n\\nIn recognition of her dedication and significant contributions to the community in education and welfare assistance, … https://t.co/avccg0OU9w https://t.co/7vkJL7eBzm</td>\n",
       "      <td>None</td>\n",
       "      <td>en</td>\n",
       "      <td>Kuala Lumpur, Malaysia</td>\n",
       "    </tr>\n",
       "    <tr>\n",
       "      <th>1</th>\n",
       "      <td>saraspeaks_now_</td>\n",
       "      <td>2022-09-30 04:03:17+00:00</td>\n",
       "      <td>5</td>\n",
       "      <td>Twitter for Android</td>\n",
       "      <td>University is not good for me... first one to like Taylor's tiktok... I'm just gonna leave this here https://t.co/NYALY9cS1U</td>\n",
       "      <td>None</td>\n",
       "      <td>en</td>\n",
       "      <td></td>\n",
       "    </tr>\n",
       "    <tr>\n",
       "      <th>2</th>\n",
       "      <td>COOXasia</td>\n",
       "      <td>2022-09-30 03:00:02+00:00</td>\n",
       "      <td>1</td>\n",
       "      <td>Twitter Web App</td>\n",
       "      <td>DIM SUM FOR EVERYONE! Order from Pak Din for halal and delicious Dimsum. 🥟🥟\\nCheck out their menu on COOX Application today and place your order! \\n\\nAvailable at COOX, Taylor's University Lakeside Campus.\\n\\n#cooxasia #cooxkitchens #pakdindimsum #cloudkitchen #cloudkitchenmalaysia https://t.co/z0JUkpnegq</td>\n",
       "      <td>None</td>\n",
       "      <td>en</td>\n",
       "      <td>Glo Damansara, Kuala Lumpur</td>\n",
       "    </tr>\n",
       "    <tr>\n",
       "      <th>3</th>\n",
       "      <td>cookiessaaji</td>\n",
       "      <td>2022-09-28 15:44:13+00:00</td>\n",
       "      <td>2</td>\n",
       "      <td>Twitter for Android</td>\n",
       "      <td>it was a pleasure to meet the debaters of taylor's university and MUDA's committees and EXCOs! https://t.co/c222nMkoDd</td>\n",
       "      <td>None</td>\n",
       "      <td>en</td>\n",
       "      <td></td>\n",
       "    </tr>\n",
       "    <tr>\n",
       "      <th>4</th>\n",
       "      <td>SkeshMM</td>\n",
       "      <td>2022-09-27 15:47:12+00:00</td>\n",
       "      <td>0</td>\n",
       "      <td>Instagram</td>\n",
       "      <td>Just posted a photo @ Taylor's University https://t.co/enqEbj4AXt</td>\n",
       "      <td>None</td>\n",
       "      <td>en</td>\n",
       "      <td>Asia</td>\n",
       "    </tr>\n",
       "  </tbody>\n",
       "</table>\n",
       "</div>"
      ],
      "text/plain": [
       "              User              Date_Created  Number_of_Likes  \\\n",
       "0  zulyusmardotcom 2022-09-30 16:54:38+00:00                0   \n",
       "1  saraspeaks_now_ 2022-09-30 04:03:17+00:00                5   \n",
       "2         COOXasia 2022-09-30 03:00:02+00:00                1   \n",
       "3     cookiessaaji 2022-09-28 15:44:13+00:00                2   \n",
       "4          SkeshMM 2022-09-27 15:47:12+00:00                0   \n",
       "\n",
       "       Source_of_Tweet  \\\n",
       "0                IFTTT   \n",
       "1  Twitter for Android   \n",
       "2      Twitter Web App   \n",
       "3  Twitter for Android   \n",
       "4            Instagram   \n",
       "\n",
       "                                                                                                                                                                                                                                                                                                                Tweet  \\\n",
       "0   Taylor’s University confers award to Sister Enda Ryan for her contribution in laying the foundation for women’s education in the nation\\n\\nIn recognition of her dedication and significant contributions to the community in education and welfare assistance, … https://t.co/avccg0OU9w https://t.co/7vkJL7eBzm   \n",
       "1                                                                                                                                                                                        University is not good for me... first one to like Taylor's tiktok... I'm just gonna leave this here https://t.co/NYALY9cS1U   \n",
       "2  DIM SUM FOR EVERYONE! Order from Pak Din for halal and delicious Dimsum. 🥟🥟\\nCheck out their menu on COOX Application today and place your order! \\n\\nAvailable at COOX, Taylor's University Lakeside Campus.\\n\\n#cooxasia #cooxkitchens #pakdindimsum #cloudkitchen #cloudkitchenmalaysia https://t.co/z0JUkpnegq   \n",
       "3                                                                                                                                                                                              it was a pleasure to meet the debaters of taylor's university and MUDA's committees and EXCOs! https://t.co/c222nMkoDd   \n",
       "4                                                                                                                                                                                                                                                   Just posted a photo @ Taylor's University https://t.co/enqEbj4AXt   \n",
       "\n",
       "  Retweeted_Tweets Language                     Location  \n",
       "0             None       en       Kuala Lumpur, Malaysia  \n",
       "1             None       en                               \n",
       "2             None       en  Glo Damansara, Kuala Lumpur  \n",
       "3             None       en                               \n",
       "4             None       en                         Asia  "
      ]
     },
     "execution_count": 10,
     "metadata": {},
     "output_type": "execute_result"
    }
   ],
   "source": [
    "# Show the first 5 rows of the dataframe\n",
    "taylor_tweets_df.head()"
   ]
  },
  {
   "cell_type": "markdown",
   "id": "0ecd9e87",
   "metadata": {},
   "source": [
    "## UCSI University"
   ]
  },
  {
   "cell_type": "code",
   "execution_count": 11,
   "id": "82c03dac",
   "metadata": {},
   "outputs": [],
   "source": [
    "# Creating list to append tweet data to\n",
    "attributes_container = []\n",
    "\n",
    "# Using TwitterSearchScraper to scrape data and append tweets to list\n",
    "for i,tweet in enumerate(sntwitter.TwitterSearchScraper('ucsi university since:2021-01-01 until:2022-10-01').get_items()):\n",
    "    if i>499:\n",
    "        break\n",
    "    attributes_container.append([tweet.user.username, tweet.date, tweet.likeCount, tweet.sourceLabel, tweet.content, \n",
    "                                 tweet.retweetedTweet, tweet.lang, tweet.user.location])\n",
    "    \n",
    "for i,tweet in enumerate(sntwitter.TwitterSearchScraper('UCSI University since:2021-01-01 until:2022-10-01').get_items()):\n",
    "    if i>499:\n",
    "        break\n",
    "    attributes_container.append([tweet.user.username, tweet.date, tweet.likeCount, tweet.sourceLabel, tweet.content, \n",
    "                                 tweet.retweetedTweet, tweet.lang, tweet.user.location])\n",
    "\n",
    "for i,tweet in enumerate(sntwitter.TwitterSearchScraper('#ucsiuniversity since:2021-01-01 until:2022-10-01').get_items()):\n",
    "    if i>499:\n",
    "        break\n",
    "    attributes_container.append([tweet.user.username, tweet.date, tweet.likeCount, tweet.sourceLabel, tweet.content, \n",
    "                                 tweet.retweetedTweet, tweet.lang, tweet.user.location])\n",
    "    \n",
    "for i,tweet in enumerate(sntwitter.TwitterSearchScraper('#ucsiuni since:2021-01-01 until:2022-10-01').get_items()):\n",
    "    if i>499:\n",
    "        break\n",
    "    attributes_container.append([tweet.user.username, tweet.date, tweet.likeCount, tweet.sourceLabel, tweet.content, \n",
    "                                 tweet.retweetedTweet, tweet.lang, tweet.user.location])\n",
    "    \n",
    "# Creating a dataframe to load the list\n",
    "ucsi_tweets_df = pd.DataFrame(attributes_container, columns=[\"User\", \"Date_Created\", \"Number_of_Likes\", \n",
    "                                                             \"Source_of_Tweet\", \"Tweet\", \"Retweeted_Tweets\",\n",
    "                                                             \"Language\", \"Location\"])"
   ]
  },
  {
   "cell_type": "code",
   "execution_count": 12,
   "id": "d112344f",
   "metadata": {},
   "outputs": [
    {
     "data": {
      "text/plain": [
       "(1337, 8)"
      ]
     },
     "execution_count": 12,
     "metadata": {},
     "output_type": "execute_result"
    }
   ],
   "source": [
    "# Display the dimension of the dataframe (number of rows and columns)\n",
    "ucsi_tweets_df.shape"
   ]
  },
  {
   "cell_type": "code",
   "execution_count": 13,
   "id": "1f1265ed",
   "metadata": {},
   "outputs": [],
   "source": [
    "# Export dataframe to csv\n",
    "ucsi_tweets_df.to_csv('ucsi_tweets.csv', index=False) "
   ]
  },
  {
   "cell_type": "code",
   "execution_count": 14,
   "id": "1bfa7799",
   "metadata": {
    "scrolled": true
   },
   "outputs": [
    {
     "data": {
      "text/html": [
       "<div>\n",
       "<style scoped>\n",
       "    .dataframe tbody tr th:only-of-type {\n",
       "        vertical-align: middle;\n",
       "    }\n",
       "\n",
       "    .dataframe tbody tr th {\n",
       "        vertical-align: top;\n",
       "    }\n",
       "\n",
       "    .dataframe thead th {\n",
       "        text-align: right;\n",
       "    }\n",
       "</style>\n",
       "<table border=\"1\" class=\"dataframe\">\n",
       "  <thead>\n",
       "    <tr style=\"text-align: right;\">\n",
       "      <th></th>\n",
       "      <th>User</th>\n",
       "      <th>Date_Created</th>\n",
       "      <th>Number_of_Likes</th>\n",
       "      <th>Source_of_Tweet</th>\n",
       "      <th>Tweet</th>\n",
       "      <th>Retweeted_Tweets</th>\n",
       "      <th>Language</th>\n",
       "      <th>Location</th>\n",
       "    </tr>\n",
       "  </thead>\n",
       "  <tbody>\n",
       "    <tr>\n",
       "      <th>0</th>\n",
       "      <td>ACS_Omega</td>\n",
       "      <td>2022-09-29 14:30:05+00:00</td>\n",
       "      <td>8</td>\n",
       "      <td>Brandwatch</td>\n",
       "      <td>▶️ Influence of Highly Stable Ni2+ Species in Ni Phyllosilicate #Catalysts on Selective #Hydrogenation of Furfural to Furfuryl Alcohol\\n\\n👥 Christopher W. Jones, Joongjai Panpranot &amp;amp; coworkers\\n\\nhttps://t.co/nIUnncQFqt\\n\\n@Chris_Jones_GT @GTChBE @ChulalongkornU @ucsiuniversity https://t.co/zsf9qaQ0v8</td>\n",
       "      <td>None</td>\n",
       "      <td>en</td>\n",
       "      <td></td>\n",
       "    </tr>\n",
       "    <tr>\n",
       "      <th>1</th>\n",
       "      <td>MwakibeteMula</td>\n",
       "      <td>2022-09-29 09:03:23+00:00</td>\n",
       "      <td>1</td>\n",
       "      <td>Twitter for Android</td>\n",
       "      <td>@MirandaNaiman Been there for more than two years. UCSI UNIVERSITY</td>\n",
       "      <td>None</td>\n",
       "      <td>en</td>\n",
       "      <td>Dar es Salaam, Tanzania</td>\n",
       "    </tr>\n",
       "    <tr>\n",
       "      <th>2</th>\n",
       "      <td>Uni_of_Essex</td>\n",
       "      <td>2022-09-28 15:00:12+00:00</td>\n",
       "      <td>5</td>\n",
       "      <td>Oktopost</td>\n",
       "      <td>An amazing day celebrating partnerships in #Malaysia with @uitmofficial, @ucsiuniversity and @BACCollege.  \\n \\nWe’re so proud of our growing partnerships and looking to build on our research and education links. https://t.co/Tb31NIdVNA</td>\n",
       "      <td>None</td>\n",
       "      <td>en</td>\n",
       "      <td>Essex</td>\n",
       "    </tr>\n",
       "    <tr>\n",
       "      <th>3</th>\n",
       "      <td>PTIKPOfficial</td>\n",
       "      <td>2022-09-28 07:38:50+00:00</td>\n",
       "      <td>20</td>\n",
       "      <td>Twitter for Android</td>\n",
       "      <td>Following the #WorldTourismDay 2022 theme ‘Rethinking Tourism’, an MoU on the #Digital Reconstruction of sites in Khyber Pakhtunkhwa, was signed between @KPDOAMOfficial and @ucsiuniversity.  1/2\\n\\n#KPKUpdates #KPArchaeology https://t.co/KDFmH55BKR</td>\n",
       "      <td>None</td>\n",
       "      <td>en</td>\n",
       "      <td></td>\n",
       "    </tr>\n",
       "    <tr>\n",
       "      <th>4</th>\n",
       "      <td>KPDOAMOfficial</td>\n",
       "      <td>2022-09-28 06:53:56+00:00</td>\n",
       "      <td>11</td>\n",
       "      <td>Twitter for Android</td>\n",
       "      <td>Following the #WorldTourismDay 2022 theme ‘Rethinking Tourism’, an MoU on the #Digital Reconstruction of sites in Khyber Pakhtunkhwa, was signed between @KPDOAMOfficial and @ucsiuniversity.  1/3\\n\\n#KPArchaeology @BBCEarth @NatGeo @WorldArchaeo @NatGeoMag https://t.co/izOiVyiTDM</td>\n",
       "      <td>None</td>\n",
       "      <td>en</td>\n",
       "      <td>Peshawar, Pakistan</td>\n",
       "    </tr>\n",
       "  </tbody>\n",
       "</table>\n",
       "</div>"
      ],
      "text/plain": [
       "             User              Date_Created  Number_of_Likes  \\\n",
       "0       ACS_Omega 2022-09-29 14:30:05+00:00                8   \n",
       "1   MwakibeteMula 2022-09-29 09:03:23+00:00                1   \n",
       "2    Uni_of_Essex 2022-09-28 15:00:12+00:00                5   \n",
       "3   PTIKPOfficial 2022-09-28 07:38:50+00:00               20   \n",
       "4  KPDOAMOfficial 2022-09-28 06:53:56+00:00               11   \n",
       "\n",
       "       Source_of_Tweet  \\\n",
       "0           Brandwatch   \n",
       "1  Twitter for Android   \n",
       "2             Oktopost   \n",
       "3  Twitter for Android   \n",
       "4  Twitter for Android   \n",
       "\n",
       "                                                                                                                                                                                                                                                                                                                Tweet  \\\n",
       "0  ▶️ Influence of Highly Stable Ni2+ Species in Ni Phyllosilicate #Catalysts on Selective #Hydrogenation of Furfural to Furfuryl Alcohol\\n\\n👥 Christopher W. Jones, Joongjai Panpranot &amp; coworkers\\n\\nhttps://t.co/nIUnncQFqt\\n\\n@Chris_Jones_GT @GTChBE @ChulalongkornU @ucsiuniversity https://t.co/zsf9qaQ0v8   \n",
       "1                                                                                                                                                                                                                                                  @MirandaNaiman Been there for more than two years. UCSI UNIVERSITY   \n",
       "2                                                                        An amazing day celebrating partnerships in #Malaysia with @uitmofficial, @ucsiuniversity and @BACCollege.  \\n \\nWe’re so proud of our growing partnerships and looking to build on our research and education links. https://t.co/Tb31NIdVNA   \n",
       "3                                                            Following the #WorldTourismDay 2022 theme ‘Rethinking Tourism’, an MoU on the #Digital Reconstruction of sites in Khyber Pakhtunkhwa, was signed between @KPDOAMOfficial and @ucsiuniversity.  1/2\\n\\n#KPKUpdates #KPArchaeology https://t.co/KDFmH55BKR   \n",
       "4                             Following the #WorldTourismDay 2022 theme ‘Rethinking Tourism’, an MoU on the #Digital Reconstruction of sites in Khyber Pakhtunkhwa, was signed between @KPDOAMOfficial and @ucsiuniversity.  1/3\\n\\n#KPArchaeology @BBCEarth @NatGeo @WorldArchaeo @NatGeoMag https://t.co/izOiVyiTDM   \n",
       "\n",
       "  Retweeted_Tweets Language                 Location  \n",
       "0             None       en                           \n",
       "1             None       en  Dar es Salaam, Tanzania  \n",
       "2             None       en                    Essex  \n",
       "3             None       en                           \n",
       "4             None       en       Peshawar, Pakistan  "
      ]
     },
     "execution_count": 14,
     "metadata": {},
     "output_type": "execute_result"
    }
   ],
   "source": [
    "# Show the first 5 rows of the dataframe\n",
    "ucsi_tweets_df.head()"
   ]
  },
  {
   "cell_type": "markdown",
   "id": "e3cacc40",
   "metadata": {},
   "source": [
    "## University of Malaya (UM)"
   ]
  },
  {
   "cell_type": "code",
   "execution_count": 15,
   "id": "320f61e4",
   "metadata": {},
   "outputs": [],
   "source": [
    "# Creating list to append tweet data to\n",
    "attributes_container = []\n",
    "\n",
    "# Using TwitterSearchScraper to scrape data and append tweets to list\n",
    "for i,tweet in enumerate(sntwitter.TwitterSearchScraper('university of malaya since:2021-01-01 until:2022-10-01').get_items()):\n",
    "    if i>499:\n",
    "        break\n",
    "    attributes_container.append([tweet.user.username, tweet.date, tweet.likeCount, tweet.sourceLabel, tweet.content, \n",
    "                                 tweet.retweetedTweet, tweet.lang, tweet.user.location])\n",
    "\n",
    "for i,tweet in enumerate(sntwitter.TwitterSearchScraper('universiti malaya since:2021-01-01 until:2022-10-01').get_items()):\n",
    "    if i>499:\n",
    "        break\n",
    "    attributes_container.append([tweet.user.username, tweet.date, tweet.likeCount, tweet.sourceLabel, tweet.content, \n",
    "                                 tweet.retweetedTweet, tweet.lang, tweet.user.location])\n",
    "    \n",
    "for i,tweet in enumerate(sntwitter.TwitterSearchScraper('#universityofmalaya since:2021-01-01 until:2022-10-01').get_items()):\n",
    "    if i>499:\n",
    "        break\n",
    "    attributes_container.append([tweet.user.username, tweet.date, tweet.likeCount, tweet.sourceLabel, tweet.content, \n",
    "                                 tweet.retweetedTweet, tweet.lang, tweet.user.location])\n",
    "    \n",
    "for i,tweet in enumerate(sntwitter.TwitterSearchScraper('#universitimalaya since:2021-01-01 until:2022-10-01').get_items()):\n",
    "    if i>499:\n",
    "        break\n",
    "    attributes_container.append([tweet.user.username, tweet.date, tweet.likeCount, tweet.sourceLabel, tweet.content, \n",
    "                                 tweet.retweetedTweet, tweet.lang, tweet.user.location])\n",
    "    \n",
    "# Creating a dataframe to load the list\n",
    "um_tweets_df = pd.DataFrame(attributes_container, columns=[\"User\", \"Date_Created\", \"Number_of_Likes\", \n",
    "                                                           \"Source_of_Tweet\", \"Tweet\", \"Retweeted_Tweets\",\n",
    "                                                           \"Language\", \"Location\"])"
   ]
  },
  {
   "cell_type": "code",
   "execution_count": 16,
   "id": "d7cbca5d",
   "metadata": {},
   "outputs": [
    {
     "data": {
      "text/plain": [
       "(1428, 8)"
      ]
     },
     "execution_count": 16,
     "metadata": {},
     "output_type": "execute_result"
    }
   ],
   "source": [
    "# Display the dimension of the dataframe (number of rows and columns)\n",
    "um_tweets_df.shape"
   ]
  },
  {
   "cell_type": "code",
   "execution_count": 17,
   "id": "484ee243",
   "metadata": {},
   "outputs": [],
   "source": [
    "# Export dataframe to csv\n",
    "um_tweets_df.to_csv('um_tweets.csv', index=False) "
   ]
  },
  {
   "cell_type": "code",
   "execution_count": 18,
   "id": "819f24b4",
   "metadata": {
    "scrolled": true
   },
   "outputs": [
    {
     "data": {
      "text/html": [
       "<div>\n",
       "<style scoped>\n",
       "    .dataframe tbody tr th:only-of-type {\n",
       "        vertical-align: middle;\n",
       "    }\n",
       "\n",
       "    .dataframe tbody tr th {\n",
       "        vertical-align: top;\n",
       "    }\n",
       "\n",
       "    .dataframe thead th {\n",
       "        text-align: right;\n",
       "    }\n",
       "</style>\n",
       "<table border=\"1\" class=\"dataframe\">\n",
       "  <thead>\n",
       "    <tr style=\"text-align: right;\">\n",
       "      <th></th>\n",
       "      <th>User</th>\n",
       "      <th>Date_Created</th>\n",
       "      <th>Number_of_Likes</th>\n",
       "      <th>Source_of_Tweet</th>\n",
       "      <th>Tweet</th>\n",
       "      <th>Retweeted_Tweets</th>\n",
       "      <th>Language</th>\n",
       "      <th>Location</th>\n",
       "    </tr>\n",
       "  </thead>\n",
       "  <tbody>\n",
       "    <tr>\n",
       "      <th>0</th>\n",
       "      <td>Rezafah26173719</td>\n",
       "      <td>2022-09-30 17:53:45+00:00</td>\n",
       "      <td>0</td>\n",
       "      <td>Twitter Web App</td>\n",
       "      <td>The most favorites place to take picture in University of Malaya. https://t.co/lZpLdAz9Ok</td>\n",
       "      <td>None</td>\n",
       "      <td>en</td>\n",
       "      <td>Padang</td>\n",
       "    </tr>\n",
       "    <tr>\n",
       "      <th>1</th>\n",
       "      <td>bazaarbaku</td>\n",
       "      <td>2022-09-30 14:49:34+00:00</td>\n",
       "      <td>0</td>\n",
       "      <td>dlvr.it</td>\n",
       "      <td>Malaysia highly appreciates Azerbaijan's efforts to restore peace in S.Caucasus - University of Malaya professor https://t.co/7oUhNzFZ25</td>\n",
       "      <td>None</td>\n",
       "      <td>en</td>\n",
       "      <td>Baku, Azerbaijan</td>\n",
       "    </tr>\n",
       "    <tr>\n",
       "      <th>2</th>\n",
       "      <td>malforwb</td>\n",
       "      <td>2022-09-30 04:01:39+00:00</td>\n",
       "      <td>1</td>\n",
       "      <td>malforscheduler</td>\n",
       "      <td>[30/9/62] The University of Malaya is recruiting eight experts to staff its School of Education, which is to begin operation next May.</td>\n",
       "      <td>None</td>\n",
       "      <td>en</td>\n",
       "      <td>Malaya</td>\n",
       "    </tr>\n",
       "    <tr>\n",
       "      <th>3</th>\n",
       "      <td>lawreviewUM</td>\n",
       "      <td>2022-09-30 03:23:16+00:00</td>\n",
       "      <td>43</td>\n",
       "      <td>Twitter Web App</td>\n",
       "      <td>[Person of the Month]\\n \\nBidding farewell to the semester break and venturing into a new academic year, the University of Malaya Law Review is delighted to introduce Mr Akhmal Amaluddin as our September Person of the Month! [1] \\n\\nhttps://t.co/T5NVkKvAhM https://t.co/557WAhhElc</td>\n",
       "      <td>None</td>\n",
       "      <td>en</td>\n",
       "      <td>Faculty of Law, UM</td>\n",
       "    </tr>\n",
       "    <tr>\n",
       "      <th>4</th>\n",
       "      <td>FominLabs</td>\n",
       "      <td>2022-09-30 01:48:11+00:00</td>\n",
       "      <td>0</td>\n",
       "      <td>Reddit Official</td>\n",
       "      <td>I just posted \"UNIVERSITY OF MALAYA TUITION FEES 2023\" on Reddit\\n\\nhttps://t.co/XbMBCEdVRP</td>\n",
       "      <td>None</td>\n",
       "      <td>en</td>\n",
       "      <td></td>\n",
       "    </tr>\n",
       "  </tbody>\n",
       "</table>\n",
       "</div>"
      ],
      "text/plain": [
       "              User              Date_Created  Number_of_Likes  \\\n",
       "0  Rezafah26173719 2022-09-30 17:53:45+00:00                0   \n",
       "1       bazaarbaku 2022-09-30 14:49:34+00:00                0   \n",
       "2         malforwb 2022-09-30 04:01:39+00:00                1   \n",
       "3      lawreviewUM 2022-09-30 03:23:16+00:00               43   \n",
       "4        FominLabs 2022-09-30 01:48:11+00:00                0   \n",
       "\n",
       "   Source_of_Tweet  \\\n",
       "0  Twitter Web App   \n",
       "1          dlvr.it   \n",
       "2  malforscheduler   \n",
       "3  Twitter Web App   \n",
       "4  Reddit Official   \n",
       "\n",
       "                                                                                                                                                                                                                                                                                      Tweet  \\\n",
       "0                                                                                                                                                                                                 The most favorites place to take picture in University of Malaya. https://t.co/lZpLdAz9Ok   \n",
       "1                                                                                                                                                  Malaysia highly appreciates Azerbaijan's efforts to restore peace in S.Caucasus - University of Malaya professor https://t.co/7oUhNzFZ25   \n",
       "2                                                                                                                                                    [30/9/62] The University of Malaya is recruiting eight experts to staff its School of Education, which is to begin operation next May.   \n",
       "3  [Person of the Month]\\n \\nBidding farewell to the semester break and venturing into a new academic year, the University of Malaya Law Review is delighted to introduce Mr Akhmal Amaluddin as our September Person of the Month! [1] \\n\\nhttps://t.co/T5NVkKvAhM https://t.co/557WAhhElc   \n",
       "4                                                                                                                                                                                               I just posted \"UNIVERSITY OF MALAYA TUITION FEES 2023\" on Reddit\\n\\nhttps://t.co/XbMBCEdVRP   \n",
       "\n",
       "  Retweeted_Tweets Language            Location  \n",
       "0             None       en             Padang   \n",
       "1             None       en    Baku, Azerbaijan  \n",
       "2             None       en              Malaya  \n",
       "3             None       en  Faculty of Law, UM  \n",
       "4             None       en                      "
      ]
     },
     "execution_count": 18,
     "metadata": {},
     "output_type": "execute_result"
    }
   ],
   "source": [
    "# Show the first 5 rows of the dataframe\n",
    "um_tweets_df.head()"
   ]
  },
  {
   "cell_type": "markdown",
   "id": "b6890f29",
   "metadata": {},
   "source": [
    "## University of Putra Malaysia (UPM)"
   ]
  },
  {
   "cell_type": "code",
   "execution_count": 19,
   "id": "45572a78",
   "metadata": {},
   "outputs": [],
   "source": [
    "# Creating list to append tweet data to\n",
    "attributes_container = []\n",
    "\n",
    "# Using TwitterSearchScraper to scrape data and append tweets to list\n",
    "for i,tweet in enumerate(sntwitter.TwitterSearchScraper('Universiti Putra Malaysia since:2021-01-01 until:2022-10-01').\\\n",
    "                         get_items()):\n",
    "    if i>499:\n",
    "        break\n",
    "    attributes_container.append([tweet.user.username, tweet.date, tweet.likeCount, tweet.sourceLabel, tweet.content, \n",
    "                                 tweet.retweetedTweet, tweet.lang, tweet.user.location])\n",
    "\n",
    "for i,tweet in enumerate(sntwitter.TwitterSearchScraper('University of Putra Malaysia since:2021-01-01 until:2022-10-01').\\\n",
    "                         get_items()):\n",
    "    if i>499:\n",
    "        break\n",
    "    attributes_container.append([tweet.user.username, tweet.date, tweet.likeCount, tweet.sourceLabel, tweet.content, \n",
    "                                 tweet.retweetedTweet, tweet.lang, tweet.user.location])\n",
    "    \n",
    "for i,tweet in enumerate(sntwitter.TwitterSearchScraper('#universityofputramalaysia since:2021-01-01 until:2022-10-01').\\\n",
    "                         get_items()):\n",
    "    if i>499:\n",
    "        break\n",
    "    attributes_container.append([tweet.user.username, tweet.date, tweet.likeCount, tweet.sourceLabel, tweet.content, \n",
    "                                 tweet.retweetedTweet, tweet.lang, tweet.user.location])\n",
    "    \n",
    "for i,tweet in enumerate(sntwitter.TwitterSearchScraper('#universitiputramalaysia since:2021-01-01 until:2022-10-01').\\\n",
    "                         get_items()):\n",
    "    if i>499:\n",
    "        break\n",
    "    attributes_container.append([tweet.user.username, tweet.date, tweet.likeCount, tweet.sourceLabel, tweet.content, \n",
    "                                 tweet.retweetedTweet, tweet.lang, tweet.user.location])\n",
    "    \n",
    "# Creating a dataframe to load the list\n",
    "upm_tweets_df = pd.DataFrame(attributes_container, columns=[\"User\", \"Date_Created\", \"Number_of_Likes\", \n",
    "                                                            \"Source_of_Tweet\", \"Tweet\", \"Retweeted_Tweets\",\n",
    "                                                            \"Language\", \"Location\"])"
   ]
  },
  {
   "cell_type": "code",
   "execution_count": 20,
   "id": "8f04ef6c",
   "metadata": {},
   "outputs": [
    {
     "data": {
      "text/plain": [
       "(656, 8)"
      ]
     },
     "execution_count": 20,
     "metadata": {},
     "output_type": "execute_result"
    }
   ],
   "source": [
    "# Display the dimension of the dataframe (number of rows and columns)\n",
    "upm_tweets_df.shape"
   ]
  },
  {
   "cell_type": "code",
   "execution_count": 21,
   "id": "4ba6fa72",
   "metadata": {},
   "outputs": [],
   "source": [
    "# Export dataframe to csv\n",
    "upm_tweets_df.to_csv('upm_tweets.csv', index=False) "
   ]
  },
  {
   "cell_type": "code",
   "execution_count": 22,
   "id": "0d05dd96",
   "metadata": {},
   "outputs": [
    {
     "data": {
      "text/html": [
       "<div>\n",
       "<style scoped>\n",
       "    .dataframe tbody tr th:only-of-type {\n",
       "        vertical-align: middle;\n",
       "    }\n",
       "\n",
       "    .dataframe tbody tr th {\n",
       "        vertical-align: top;\n",
       "    }\n",
       "\n",
       "    .dataframe thead th {\n",
       "        text-align: right;\n",
       "    }\n",
       "</style>\n",
       "<table border=\"1\" class=\"dataframe\">\n",
       "  <thead>\n",
       "    <tr style=\"text-align: right;\">\n",
       "      <th></th>\n",
       "      <th>User</th>\n",
       "      <th>Date_Created</th>\n",
       "      <th>Number_of_Likes</th>\n",
       "      <th>Source_of_Tweet</th>\n",
       "      <th>Tweet</th>\n",
       "      <th>Retweeted_Tweets</th>\n",
       "      <th>Language</th>\n",
       "      <th>Location</th>\n",
       "    </tr>\n",
       "  </thead>\n",
       "  <tbody>\n",
       "    <tr>\n",
       "      <th>0</th>\n",
       "      <td>BuletinTV3</td>\n",
       "      <td>2022-09-30 10:04:45+00:00</td>\n",
       "      <td>1</td>\n",
       "      <td>Twitter Web App</td>\n",
       "      <td>Tiga pensyarah Universiti Putra Malaysia(UPM) menerima penganugerahan dan pengiktirafan sebagai Top Research Scientists Malaysia (TRSM) 2022 oleh Akademi Sains Malaysia (ASM).\\n\\nhttps://t.co/ZJXJenhTNS</td>\n",
       "      <td>None</td>\n",
       "      <td>in</td>\n",
       "      <td>Sri Pentas, Bandar Utama</td>\n",
       "    </tr>\n",
       "    <tr>\n",
       "      <th>1</th>\n",
       "      <td>MPPUPMofficial</td>\n",
       "      <td>2022-09-30 08:05:26+00:00</td>\n",
       "      <td>0</td>\n",
       "      <td>Twitter for iPhone</td>\n",
       "      <td>#162 ( 30 SEPTEMBER 2022 | 04:00 PM )\\n[ MAKLUMAN MPP UPM SESI 2021/2022 ]\\n\\n[ TELEGRAM RASMI MAJLIS PERWAKILAN PELAJAR UNIVERSITI PUTRA MALAYSIA SESI 2021/2022 ]\\n\\nAssalamualaikum w.b.t,\\nSalam Sejahtera,\\nSalam We Love UPM.\\n\\nPautan Telegram Rasmi MPP UPM :\\nhttps://t.co/s4dKQ25QFm https://t.co/gUbSgUcAzl</td>\n",
       "      <td>None</td>\n",
       "      <td>in</td>\n",
       "      <td>Selangor, Malaysia</td>\n",
       "    </tr>\n",
       "    <tr>\n",
       "      <th>2</th>\n",
       "      <td>sbesaupm</td>\n",
       "      <td>2022-09-30 06:55:06+00:00</td>\n",
       "      <td>0</td>\n",
       "      <td>Twitter for iPhone</td>\n",
       "      <td>Ketua Ekonomi Buruh\\nKementerian Sumber Manusia &amp;amp; Emiratisasi\\nDubai, Emiriah Arab Bersatu (UAE)\\n\\nSemoga terus cemerlang dan membawa nama UPM ke persada global\\n\\nDaripada,\\nPersatuan Pelajar Sekolah Perniagaan dan Ekonomi\\n(SBESA)\\nUniversiti Putra Malaysia\\n2022/2023</td>\n",
       "      <td>None</td>\n",
       "      <td>in</td>\n",
       "      <td>UPM</td>\n",
       "    </tr>\n",
       "    <tr>\n",
       "      <th>3</th>\n",
       "      <td>SuHuajuan</td>\n",
       "      <td>2022-09-29 11:18:02+00:00</td>\n",
       "      <td>0</td>\n",
       "      <td>Twitter for iPhone</td>\n",
       "      <td>Accommodation | Universiti Putra Malaysia https://t.co/q92qsTkwGp</td>\n",
       "      <td>None</td>\n",
       "      <td>fr</td>\n",
       "      <td></td>\n",
       "    </tr>\n",
       "    <tr>\n",
       "      <th>4</th>\n",
       "      <td>sbesaupm</td>\n",
       "      <td>2022-09-29 11:07:15+00:00</td>\n",
       "      <td>0</td>\n",
       "      <td>Twitter for iPhone</td>\n",
       "      <td>School of Business And Economics\\nStudent Association\\nUniversiti Putra Malaysia\\n2022/2023\\n\\n#sbesaupm\\n#speupm\\n#berilmuberbakti\\n#weloveupm\\n#sbesaupm2223</td>\n",
       "      <td>None</td>\n",
       "      <td>en</td>\n",
       "      <td>UPM</td>\n",
       "    </tr>\n",
       "  </tbody>\n",
       "</table>\n",
       "</div>"
      ],
      "text/plain": [
       "             User              Date_Created  Number_of_Likes  \\\n",
       "0      BuletinTV3 2022-09-30 10:04:45+00:00                1   \n",
       "1  MPPUPMofficial 2022-09-30 08:05:26+00:00                0   \n",
       "2        sbesaupm 2022-09-30 06:55:06+00:00                0   \n",
       "3       SuHuajuan 2022-09-29 11:18:02+00:00                0   \n",
       "4        sbesaupm 2022-09-29 11:07:15+00:00                0   \n",
       "\n",
       "      Source_of_Tweet  \\\n",
       "0     Twitter Web App   \n",
       "1  Twitter for iPhone   \n",
       "2  Twitter for iPhone   \n",
       "3  Twitter for iPhone   \n",
       "4  Twitter for iPhone   \n",
       "\n",
       "                                                                                                                                                                                                                                                                                                                     Tweet  \\\n",
       "0                                                                                                               Tiga pensyarah Universiti Putra Malaysia(UPM) menerima penganugerahan dan pengiktirafan sebagai Top Research Scientists Malaysia (TRSM) 2022 oleh Akademi Sains Malaysia (ASM).\\n\\nhttps://t.co/ZJXJenhTNS   \n",
       "1  #162 ( 30 SEPTEMBER 2022 | 04:00 PM )\\n[ MAKLUMAN MPP UPM SESI 2021/2022 ]\\n\\n[ TELEGRAM RASMI MAJLIS PERWAKILAN PELAJAR UNIVERSITI PUTRA MALAYSIA SESI 2021/2022 ]\\n\\nAssalamualaikum w.b.t,\\nSalam Sejahtera,\\nSalam We Love UPM.\\n\\nPautan Telegram Rasmi MPP UPM :\\nhttps://t.co/s4dKQ25QFm https://t.co/gUbSgUcAzl   \n",
       "2                                      Ketua Ekonomi Buruh\\nKementerian Sumber Manusia &amp; Emiratisasi\\nDubai, Emiriah Arab Bersatu (UAE)\\n\\nSemoga terus cemerlang dan membawa nama UPM ke persada global\\n\\nDaripada,\\nPersatuan Pelajar Sekolah Perniagaan dan Ekonomi\\n(SBESA)\\nUniversiti Putra Malaysia\\n2022/2023   \n",
       "3                                                                                                                                                                                                                                                        Accommodation | Universiti Putra Malaysia https://t.co/q92qsTkwGp   \n",
       "4                                                                                                                                                           School of Business And Economics\\nStudent Association\\nUniversiti Putra Malaysia\\n2022/2023\\n\\n#sbesaupm\\n#speupm\\n#berilmuberbakti\\n#weloveupm\\n#sbesaupm2223   \n",
       "\n",
       "  Retweeted_Tweets Language                  Location  \n",
       "0             None       in  Sri Pentas, Bandar Utama  \n",
       "1             None       in        Selangor, Malaysia  \n",
       "2             None       in                       UPM  \n",
       "3             None       fr                            \n",
       "4             None       en                       UPM  "
      ]
     },
     "execution_count": 22,
     "metadata": {},
     "output_type": "execute_result"
    }
   ],
   "source": [
    "# Show the first 5 rows of the dataframe\n",
    "upm_tweets_df.head()"
   ]
  },
  {
   "cell_type": "markdown",
   "id": "ad8faaa8",
   "metadata": {},
   "source": [
    "## National University of Malaysia (UKM)"
   ]
  },
  {
   "cell_type": "code",
   "execution_count": 23,
   "id": "ea9ce523",
   "metadata": {},
   "outputs": [],
   "source": [
    "# Creating list to append tweet data to\n",
    "attributes_container = []\n",
    "\n",
    "# Using TwitterSearchScraper to scrape data and append tweets to list\n",
    "for i,tweet in enumerate(sntwitter.TwitterSearchScraper('National University of Malaysia since:2021-01-01 until:2022-10-01').get_items()):\n",
    "    if i>499:\n",
    "        break\n",
    "    attributes_container.append([tweet.user.username, tweet.date, tweet.likeCount, tweet.sourceLabel, tweet.content, \n",
    "                                 tweet.retweetedTweet, tweet.lang, tweet.user.location])\n",
    "    \n",
    "for i,tweet in enumerate(sntwitter.TwitterSearchScraper('Universiti Kebangsaan Malaysia since:2021-01-01 until:2022-10-01').get_items()):\n",
    "    if i>499:\n",
    "        break\n",
    "    attributes_container.append([tweet.user.username, tweet.date, tweet.likeCount, tweet.sourceLabel, tweet.content, \n",
    "                                 tweet.retweetedTweet, tweet.lang, tweet.user.location])\n",
    "    \n",
    "for i,tweet in enumerate(sntwitter.TwitterSearchScraper('#NationalUniversityofMalaysia since:2021-01-01 until:2022-10-01').get_items()):\n",
    "    if i>499:\n",
    "        break\n",
    "    attributes_container.append([tweet.user.username, tweet.date, tweet.likeCount, tweet.sourceLabel, tweet.content, \n",
    "                                 tweet.retweetedTweet, tweet.lang, tweet.user.location])\n",
    "    \n",
    "for i,tweet in enumerate(sntwitter.TwitterSearchScraper('#UniversitiKebangsaanMalaysia since:2021-01-01 until:2022-10-01').get_items()):\n",
    "    if i>499:\n",
    "        break\n",
    "    attributes_container.append([tweet.user.username, tweet.date, tweet.likeCount, tweet.sourceLabel, tweet.content, \n",
    "                                 tweet.retweetedTweet, tweet.lang, tweet.user.location])\n",
    "    \n",
    "# Creating a dataframe to load the list\n",
    "ukm_tweets_df = pd.DataFrame(attributes_container, columns=[\"User\", \"Date_Created\", \"Number_of_Likes\", \n",
    "                                                            \"Source_of_Tweet\", \"Tweet\", \"Retweeted_Tweets\",\n",
    "                                                            \"Language\", \"Location\"])"
   ]
  },
  {
   "cell_type": "code",
   "execution_count": 24,
   "id": "6a88aac4",
   "metadata": {},
   "outputs": [
    {
     "data": {
      "text/plain": [
       "(750, 8)"
      ]
     },
     "execution_count": 24,
     "metadata": {},
     "output_type": "execute_result"
    }
   ],
   "source": [
    "# Display the dimension of the dataframe (number of rows and columns)\n",
    "ukm_tweets_df.shape"
   ]
  },
  {
   "cell_type": "code",
   "execution_count": 25,
   "id": "2604f74e",
   "metadata": {},
   "outputs": [],
   "source": [
    "# Export dataframe to csv\n",
    "ukm_tweets_df.to_csv('ukm_tweets.csv', index=False) "
   ]
  },
  {
   "cell_type": "code",
   "execution_count": 26,
   "id": "334f3718",
   "metadata": {
    "scrolled": true
   },
   "outputs": [
    {
     "data": {
      "text/html": [
       "<div>\n",
       "<style scoped>\n",
       "    .dataframe tbody tr th:only-of-type {\n",
       "        vertical-align: middle;\n",
       "    }\n",
       "\n",
       "    .dataframe tbody tr th {\n",
       "        vertical-align: top;\n",
       "    }\n",
       "\n",
       "    .dataframe thead th {\n",
       "        text-align: right;\n",
       "    }\n",
       "</style>\n",
       "<table border=\"1\" class=\"dataframe\">\n",
       "  <thead>\n",
       "    <tr style=\"text-align: right;\">\n",
       "      <th></th>\n",
       "      <th>User</th>\n",
       "      <th>Date_Created</th>\n",
       "      <th>Number_of_Likes</th>\n",
       "      <th>Source_of_Tweet</th>\n",
       "      <th>Tweet</th>\n",
       "      <th>Retweeted_Tweets</th>\n",
       "      <th>Language</th>\n",
       "      <th>Location</th>\n",
       "    </tr>\n",
       "  </thead>\n",
       "  <tbody>\n",
       "    <tr>\n",
       "      <th>0</th>\n",
       "      <td>MalaysiaMFA</td>\n",
       "      <td>2022-09-29 08:16:24+00:00</td>\n",
       "      <td>6</td>\n",
       "      <td>Twitter for Android</td>\n",
       "      <td>2/ The special lecture was delivered by Distinguished Professor Datuk Dr. Shamsul Amri Baharuddin, Founding Director of National Institute of Ethnic Studies (KITA), National University of Malaysia @ukm_my</td>\n",
       "      <td>None</td>\n",
       "      <td>en</td>\n",
       "      <td>Putrajaya</td>\n",
       "    </tr>\n",
       "    <tr>\n",
       "      <th>1</th>\n",
       "      <td>MalaysiaMFA</td>\n",
       "      <td>2022-09-29 06:49:33+00:00</td>\n",
       "      <td>3</td>\n",
       "      <td>Twitter for Android</td>\n",
       "      <td>2/... together with Prof. Datuk Dr. Anis Yusal Yusoff, Principal Fellow of National University of Malaysia @ukm_my.</td>\n",
       "      <td>None</td>\n",
       "      <td>en</td>\n",
       "      <td>Putrajaya</td>\n",
       "    </tr>\n",
       "    <tr>\n",
       "      <th>2</th>\n",
       "      <td>GlobalOfficeStA</td>\n",
       "      <td>2022-09-22 11:48:37+00:00</td>\n",
       "      <td>9</td>\n",
       "      <td>Twitter Web App</td>\n",
       "      <td>The @univofstandrews recently welcomed a delegation visit from the National University of Malaysia @ukm_my for the signing of a Memorandum of Understanding between the two institutions and to discuss future partnership development. #GlobalStAndrews🌏 https://t.co/pVAy8Was0S</td>\n",
       "      <td>None</td>\n",
       "      <td>en</td>\n",
       "      <td>St Andrews, Scotland</td>\n",
       "    </tr>\n",
       "    <tr>\n",
       "      <th>3</th>\n",
       "      <td>AAsiemo</td>\n",
       "      <td>2022-09-13 23:46:17+00:00</td>\n",
       "      <td>0</td>\n",
       "      <td>Blog2Social APP</td>\n",
       "      <td>\"I think the Commonwealth is still relevant,\" says Prof Sufian Jusoh from the National University of Malaysia, who advises the government on trade, \"for the cultural and educational links, and of course the legal system - we inherited the common law  #\\n\\nhttps://t.co/XE4i0bRJp9</td>\n",
       "      <td>None</td>\n",
       "      <td>en</td>\n",
       "      <td>Nigeria</td>\n",
       "    </tr>\n",
       "    <tr>\n",
       "      <th>4</th>\n",
       "      <td>isearch247</td>\n",
       "      <td>2022-09-13 23:29:06+00:00</td>\n",
       "      <td>0</td>\n",
       "      <td>isearch247</td>\n",
       "      <td>Queen Elizabeth II: What her death means to Malaysia - https://t.co/cWIiSvODGd{ \\n\"I think the Commonwealth is still relevant,\" says Prof Sufian Jusoh from the National University of Malaysia, who advises the government on trade, \"for the cultural and educational links, and of ...</td>\n",
       "      <td>None</td>\n",
       "      <td>en</td>\n",
       "      <td></td>\n",
       "    </tr>\n",
       "  </tbody>\n",
       "</table>\n",
       "</div>"
      ],
      "text/plain": [
       "              User              Date_Created  Number_of_Likes  \\\n",
       "0      MalaysiaMFA 2022-09-29 08:16:24+00:00                6   \n",
       "1      MalaysiaMFA 2022-09-29 06:49:33+00:00                3   \n",
       "2  GlobalOfficeStA 2022-09-22 11:48:37+00:00                9   \n",
       "3          AAsiemo 2022-09-13 23:46:17+00:00                0   \n",
       "4       isearch247 2022-09-13 23:29:06+00:00                0   \n",
       "\n",
       "       Source_of_Tweet  \\\n",
       "0  Twitter for Android   \n",
       "1  Twitter for Android   \n",
       "2      Twitter Web App   \n",
       "3      Blog2Social APP   \n",
       "4           isearch247   \n",
       "\n",
       "                                                                                                                                                                                                                                                                                       Tweet  \\\n",
       "0                                                                               2/ The special lecture was delivered by Distinguished Professor Datuk Dr. Shamsul Amri Baharuddin, Founding Director of National Institute of Ethnic Studies (KITA), National University of Malaysia @ukm_my   \n",
       "1                                                                                                                                                                        2/... together with Prof. Datuk Dr. Anis Yusal Yusoff, Principal Fellow of National University of Malaysia @ukm_my.   \n",
       "2          The @univofstandrews recently welcomed a delegation visit from the National University of Malaysia @ukm_my for the signing of a Memorandum of Understanding between the two institutions and to discuss future partnership development. #GlobalStAndrews🌏 https://t.co/pVAy8Was0S   \n",
       "3    \"I think the Commonwealth is still relevant,\" says Prof Sufian Jusoh from the National University of Malaysia, who advises the government on trade, \"for the cultural and educational links, and of course the legal system - we inherited the common law  #\\n\\nhttps://t.co/XE4i0bRJp9   \n",
       "4  Queen Elizabeth II: What her death means to Malaysia - https://t.co/cWIiSvODGd{ \\n\"I think the Commonwealth is still relevant,\" says Prof Sufian Jusoh from the National University of Malaysia, who advises the government on trade, \"for the cultural and educational links, and of ...   \n",
       "\n",
       "  Retweeted_Tweets Language              Location  \n",
       "0             None       en             Putrajaya  \n",
       "1             None       en             Putrajaya  \n",
       "2             None       en  St Andrews, Scotland  \n",
       "3             None       en               Nigeria  \n",
       "4             None       en                        "
      ]
     },
     "execution_count": 26,
     "metadata": {},
     "output_type": "execute_result"
    }
   ],
   "source": [
    "# Show the first 5 rows of the dataframe\n",
    "ukm_tweets_df.head()"
   ]
  },
  {
   "cell_type": "markdown",
   "id": "0bcc52a2",
   "metadata": {},
   "source": [
    " \n"
   ]
  },
  {
   "cell_type": "code",
   "execution_count": 27,
   "id": "c166a9d3",
   "metadata": {},
   "outputs": [
    {
     "name": "stdout",
     "output_type": "stream",
     "text": [
      "5567 rows\n"
     ]
    }
   ],
   "source": [
    "# print the number of rows in total of all dataframes\n",
    "print(sunway_tweets_df.shape[0] + taylor_tweets_df.shape[0] + ucsi_tweets_df.shape[0]\n",
    "     + um_tweets_df.shape[0] + upm_tweets_df.shape[0] + ukm_tweets_df.shape[0], 'rows')"
   ]
  }
 ],
 "metadata": {
  "kernelspec": {
   "display_name": "Python 3 (ipykernel)",
   "language": "python",
   "name": "python3"
  },
  "language_info": {
   "codemirror_mode": {
    "name": "ipython",
    "version": 3
   },
   "file_extension": ".py",
   "mimetype": "text/x-python",
   "name": "python",
   "nbconvert_exporter": "python",
   "pygments_lexer": "ipython3",
   "version": "3.10.6"
  }
 },
 "nbformat": 4,
 "nbformat_minor": 5
}
