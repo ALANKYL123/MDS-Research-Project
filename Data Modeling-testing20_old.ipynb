{
 "cells": [
  {
   "cell_type": "code",
   "execution_count": 3,
   "id": "6a731567",
   "metadata": {},
   "outputs": [],
   "source": [
    "import nltk\n",
    "import numpy as np\n",
    "import pandas as pd\n",
    "import matplotlib.pyplot as plt\n",
    "from sklearn.preprocessing import LabelEncoder\n",
    "from sklearn.model_selection import train_test_split\n",
    "from sklearn.feature_extraction.text import TfidfVectorizer\n",
    "from sklearn.pipeline import Pipeline, make_pipeline\n",
    "from sklearn.model_selection import StratifiedKFold, cross_val_score\n",
    "from sklearn.linear_model import LogisticRegression\n",
    "from sklearn.naive_bayes import MultinomialNB\n",
    "from sklearn.multiclass import OneVsRestClassifier\n",
    "from sklearn.svm import SVC\n",
    "from sklearn.tree import DecisionTreeClassifier\n",
    "from sklearn.ensemble import RandomForestClassifier, GradientBoostingClassifier\n",
    "from sklearn.ensemble import StackingClassifier\n",
    "from sklearn.metrics import confusion_matrix,classification_report, roc_auc_score, accuracy_score\n",
    "from sklearn.metrics import precision_recall_fscore_support as score\n",
    "from sklearn.model_selection import GridSearchCV\n",
    "# from sklearn.preprocessing import label_binarize\n",
    "\n",
    "# expanding the dislpay of tweet text for columns and rows\n",
    "pd.set_option('display.max_colwidth', None)\n",
    "pd.set_option(\"display.max_rows\", None)"
   ]
  },
  {
   "cell_type": "code",
   "execution_count": 4,
   "id": "d05290e2",
   "metadata": {},
   "outputs": [],
   "source": [
    "# Read pre-processed data.\n",
    "sunway_df_processed = pd.read_csv('sunway_df_processed.csv')\n",
    "taylor_df_processed = pd.read_csv('taylor_df_processed.csv')\n",
    "ucsi_df_processed = pd.read_csv('ucsi_df_processed.csv')\n",
    "um_df_processed = pd.read_csv('um_df_processed.csv')\n",
    "upm_df_processed = pd.read_csv('upm_df_processed.csv')\n",
    "ukm_df_processed = pd.read_csv('ukm_df_processed.csv')"
   ]
  },
  {
   "cell_type": "markdown",
   "id": "80f59b2e",
   "metadata": {},
   "source": [
    "# Data Integration and Transformation"
   ]
  },
  {
   "cell_type": "code",
   "execution_count": 5,
   "id": "0d620c39",
   "metadata": {
    "scrolled": true
   },
   "outputs": [],
   "source": [
    "# Combine all dataframe into 1\n",
    "df = pd.concat([sunway_df_processed, taylor_df_processed, ucsi_df_processed, um_df_processed, upm_df_processed\n",
    "               , ukm_df_processed], ignore_index=True)"
   ]
  },
  {
   "cell_type": "code",
   "execution_count": 6,
   "id": "66a25603",
   "metadata": {},
   "outputs": [],
   "source": [
    "# Convert sentiments into integers. Positive = 1, Neutral = 0, Negative = -1.\n",
    "mapping = {'positive':'1', 'neutral':'0', 'negative':'-1'}\n",
    "df['Sentiment'] = df['Sentiment'].map(mapping)"
   ]
  },
  {
   "cell_type": "code",
   "execution_count": 7,
   "id": "b019e4fb",
   "metadata": {
    "scrolled": true
   },
   "outputs": [
    {
     "data": {
      "text/html": [
       "<div>\n",
       "<style scoped>\n",
       "    .dataframe tbody tr th:only-of-type {\n",
       "        vertical-align: middle;\n",
       "    }\n",
       "\n",
       "    .dataframe tbody tr th {\n",
       "        vertical-align: top;\n",
       "    }\n",
       "\n",
       "    .dataframe thead th {\n",
       "        text-align: right;\n",
       "    }\n",
       "</style>\n",
       "<table border=\"1\" class=\"dataframe\">\n",
       "  <thead>\n",
       "    <tr style=\"text-align: right;\">\n",
       "      <th></th>\n",
       "      <th>User</th>\n",
       "      <th>Date_Created</th>\n",
       "      <th>Number_of_Likes</th>\n",
       "      <th>Source_of_Tweet</th>\n",
       "      <th>Tweet</th>\n",
       "      <th>Language</th>\n",
       "      <th>Tokenized_Tweet</th>\n",
       "      <th>Negative</th>\n",
       "      <th>Neutral</th>\n",
       "      <th>Positive</th>\n",
       "      <th>Compound</th>\n",
       "      <th>Sentiment</th>\n",
       "    </tr>\n",
       "  </thead>\n",
       "  <tbody>\n",
       "    <tr>\n",
       "      <th>0</th>\n",
       "      <td>jkmkhoo</td>\n",
       "      <td>2022-09-29 13:30:47+00:00</td>\n",
       "      <td>2</td>\n",
       "      <td>Twitter Web App</td>\n",
       "      <td>this restaurant at near sunday university might suit a british palate well winkingface</td>\n",
       "      <td>en</td>\n",
       "      <td>restaurant near sunday university might suit british palate well winkingface</td>\n",
       "      <td>0.000</td>\n",
       "      <td>0.840</td>\n",
       "      <td>0.160</td>\n",
       "      <td>0.2732</td>\n",
       "      <td>1</td>\n",
       "    </tr>\n",
       "    <tr>\n",
       "      <th>1</th>\n",
       "      <td>eurospan</td>\n",
       "      <td>2022-09-29 09:46:32+00:00</td>\n",
       "      <td>0</td>\n",
       "      <td>Twitter Web App</td>\n",
       "      <td>exciting news sunday university press have launched a branded short story competition inspired by the un sustainable development goals you can find out more on european blow now</td>\n",
       "      <td>en</td>\n",
       "      <td>exciting news sunday university press launched branded short story competition inspired un sustainable development goal find european blow</td>\n",
       "      <td>0.000</td>\n",
       "      <td>0.752</td>\n",
       "      <td>0.248</td>\n",
       "      <td>0.7845</td>\n",
       "      <td>1</td>\n",
       "    </tr>\n",
       "    <tr>\n",
       "      <th>2</th>\n",
       "      <td>SunwayCPH</td>\n",
       "      <td>2022-09-29 08:30:05+00:00</td>\n",
       "      <td>4</td>\n",
       "      <td>Twitter for iPhone</td>\n",
       "      <td>check this outour chief plantar health scientist dris in the latest episode of katipunan dialogue podcast speakingheadplanetaryhealth sunwaycph sunwayuniversity upside</td>\n",
       "      <td>en</td>\n",
       "      <td>check outour chief plantar health scientist dris latest episode katipunan dialogue podcast speakingheadplanetaryhealth sunwaycph sunwayuniversity upside</td>\n",
       "      <td>0.000</td>\n",
       "      <td>1.000</td>\n",
       "      <td>0.000</td>\n",
       "      <td>0.0000</td>\n",
       "      <td>0</td>\n",
       "    </tr>\n",
       "    <tr>\n",
       "      <th>3</th>\n",
       "      <td>keenguyencaphe</td>\n",
       "      <td>2022-09-29 04:13:02+00:00</td>\n",
       "      <td>5</td>\n",
       "      <td>Twitter for Android</td>\n",
       "      <td>thus that was an amazing weekend as see nguyễn went on the loose to bring vietnams finest coffee into sunday university big buds keenguyensunway for all hardware and we hope one sip brings you vienna or back already winkingfacegot events do</td>\n",
       "      <td>en</td>\n",
       "      <td>thus amazing weekend see nguyễn went loose bring vietnam finest coffee sunday university big bud keenguyensunway hardware hope one sip brings vienna back already winkingfacegot event</td>\n",
       "      <td>0.049</td>\n",
       "      <td>0.809</td>\n",
       "      <td>0.143</td>\n",
       "      <td>0.6597</td>\n",
       "      <td>1</td>\n",
       "    </tr>\n",
       "    <tr>\n",
       "      <th>4</th>\n",
       "      <td>Mia7Jane</td>\n",
       "      <td>2022-09-28 11:16:17+00:00</td>\n",
       "      <td>1</td>\n",
       "      <td>Twitter for Android</td>\n",
       "      <td>he asked dr jane from sunday university but not malaysia grinningsquintingface mosthappeningcampus</td>\n",
       "      <td>en</td>\n",
       "      <td>asked dr jane sunday university malaysia grinningsquintingface mosthappeningcampus</td>\n",
       "      <td>0.000</td>\n",
       "      <td>1.000</td>\n",
       "      <td>0.000</td>\n",
       "      <td>0.0000</td>\n",
       "      <td>0</td>\n",
       "    </tr>\n",
       "    <tr>\n",
       "      <th>5</th>\n",
       "      <td>SunwayCPH</td>\n",
       "      <td>2022-09-27 06:52:59+00:00</td>\n",
       "      <td>3</td>\n",
       "      <td>Twitter for iPhone</td>\n",
       "      <td>truly one of the greatestMalaysiagreenheart thank your this special feature on our executive directorplanetaryhealth sunwaycph sunwayuniversity climatecrisis</td>\n",
       "      <td>en</td>\n",
       "      <td>truly one greatestMalaysiagreenheart thank special feature executive directorplanetaryhealth sunwaycph sunwayuniversity climatecrisis</td>\n",
       "      <td>0.000</td>\n",
       "      <td>0.633</td>\n",
       "      <td>0.367</td>\n",
       "      <td>0.7964</td>\n",
       "      <td>1</td>\n",
       "    </tr>\n",
       "    <tr>\n",
       "      <th>6</th>\n",
       "      <td>SunwayCPH</td>\n",
       "      <td>2022-09-27 06:17:26+00:00</td>\n",
       "      <td>4</td>\n",
       "      <td>Twitter for iPhone</td>\n",
       "      <td>thank your visiting us exciting things aheadunicefmalaysia sunwaycph planetaryhealth sunwayuniversity sunwayxfarms</td>\n",
       "      <td>en</td>\n",
       "      <td>thank visiting u exciting thing aheadunicefmalaysia sunwaycph planetaryhealth sunwayuniversity sunwayxfarms</td>\n",
       "      <td>0.000</td>\n",
       "      <td>0.612</td>\n",
       "      <td>0.388</td>\n",
       "      <td>0.6908</td>\n",
       "      <td>1</td>\n",
       "    </tr>\n",
       "    <tr>\n",
       "      <th>7</th>\n",
       "      <td>SunwayCPH</td>\n",
       "      <td>2022-09-27 06:17:23+00:00</td>\n",
       "      <td>4</td>\n",
       "      <td>Twitter for iPhone</td>\n",
       "      <td>we gave them the tour of wonderful sunday university camps farms amp our office at graduate centre ​we also discussed future joint research advocacy plans raisinghandsunicefmalaysia sunwaycph planetaryhealth sunwayuniversity sunwayxfarms</td>\n",
       "      <td>en</td>\n",
       "      <td>gave tour wonderful sunday university camp farm amp office graduate centre also discussed future joint research advocacy plan raisinghandsunicefmalaysia sunwaycph planetaryhealth sunwayuniversity sunwayxfarms</td>\n",
       "      <td>0.000</td>\n",
       "      <td>0.887</td>\n",
       "      <td>0.113</td>\n",
       "      <td>0.5719</td>\n",
       "      <td>1</td>\n",
       "    </tr>\n",
       "    <tr>\n",
       "      <th>8</th>\n",
       "      <td>SunwayCPH</td>\n",
       "      <td>2022-09-27 06:17:20+00:00</td>\n",
       "      <td>5</td>\n",
       "      <td>Twitter for iPhone</td>\n",
       "      <td>last week our friends fromvisited us ​unicefmalaysia sunwaycph planetaryhealth sunwayuniversity sunwayxfarms</td>\n",
       "      <td>en</td>\n",
       "      <td>last week friend fromvisited u unicefmalaysia sunwaycph planetaryhealth sunwayuniversity sunwayxfarms</td>\n",
       "      <td>0.000</td>\n",
       "      <td>0.763</td>\n",
       "      <td>0.237</td>\n",
       "      <td>0.4767</td>\n",
       "      <td>1</td>\n",
       "    </tr>\n",
       "    <tr>\n",
       "      <th>9</th>\n",
       "      <td>Mia7Jane</td>\n",
       "      <td>2022-09-26 23:38:57+00:00</td>\n",
       "      <td>3</td>\n",
       "      <td>Twitter for Android</td>\n",
       "      <td>afterweeks in france a pad student stopped me and asked are you dr jane from sunday university was she in popular i know it havana grinningsquintingface</td>\n",
       "      <td>en</td>\n",
       "      <td>afterweeks france pad student stopped asked dr jane sunday university popular know havana grinningsquintingface</td>\n",
       "      <td>0.071</td>\n",
       "      <td>0.824</td>\n",
       "      <td>0.105</td>\n",
       "      <td>0.2263</td>\n",
       "      <td>1</td>\n",
       "    </tr>\n",
       "    <tr>\n",
       "      <th>10</th>\n",
       "      <td>great_peters</td>\n",
       "      <td>2022-09-26 14:22:13+00:00</td>\n",
       "      <td>0</td>\n",
       "      <td>Revive Social App</td>\n",
       "      <td>sunday university international awards malaysia</td>\n",
       "      <td>en</td>\n",
       "      <td>sunday university international award malaysia</td>\n",
       "      <td>0.000</td>\n",
       "      <td>0.571</td>\n",
       "      <td>0.429</td>\n",
       "      <td>0.4588</td>\n",
       "      <td>1</td>\n",
       "    </tr>\n",
       "    <tr>\n",
       "      <th>11</th>\n",
       "      <td>michellengms</td>\n",
       "      <td>2022-09-26 12:27:00+00:00</td>\n",
       "      <td>30</td>\n",
       "      <td>Twitter for iPhone</td>\n",
       "      <td>slowing climate change requires behavior changed it is the duty of governments to facilitate this for its citizenswe are very glad be working with our partners like sunday university in sharing message on plantar health conservation and sustainability</td>\n",
       "      <td>en</td>\n",
       "      <td>slowing climate change requires behavior changed duty government facilitate citizenswe glad working partner like sunday university sharing message plantar health conservation sustainability</td>\n",
       "      <td>0.000</td>\n",
       "      <td>0.803</td>\n",
       "      <td>0.197</td>\n",
       "      <td>0.8221</td>\n",
       "      <td>1</td>\n",
       "    </tr>\n",
       "    <tr>\n",
       "      <th>12</th>\n",
       "      <td>sunwayechomedia</td>\n",
       "      <td>2022-09-26 10:30:09+00:00</td>\n",
       "      <td>0</td>\n",
       "      <td>WordPress.com</td>\n",
       "      <td>if you are currently studying in sunday college or university would definitely have heard of student ambassadors most recent event action that was held from the th august to rd septemberread on for more action</td>\n",
       "      <td>en</td>\n",
       "      <td>currently studying sunday college university would definitely heard student ambassador recent event action held th august rd septemberread action</td>\n",
       "      <td>0.000</td>\n",
       "      <td>0.926</td>\n",
       "      <td>0.074</td>\n",
       "      <td>0.4019</td>\n",
       "      <td>1</td>\n",
       "    </tr>\n",
       "    <tr>\n",
       "      <th>13</th>\n",
       "      <td>thekopidao</td>\n",
       "      <td>2022-09-26 02:51:36+00:00</td>\n",
       "      <td>19</td>\n",
       "      <td>Twitter Web App</td>\n",
       "      <td>we had another successful event with sunday university this past friday thank you and teach club for putting togetherwatch out shippers of the session and launch our web fundamentals course in octoberweb kopidao elated blockchain</td>\n",
       "      <td>en</td>\n",
       "      <td>another successful event sunday university past friday thank teach club putting togetherwatch shipper session launch web fundamental course octoberweb kopidao elated blockchain</td>\n",
       "      <td>0.000</td>\n",
       "      <td>0.753</td>\n",
       "      <td>0.247</td>\n",
       "      <td>0.8885</td>\n",
       "      <td>1</td>\n",
       "    </tr>\n",
       "    <tr>\n",
       "      <th>14</th>\n",
       "      <td>MIASAMalaysia</td>\n",
       "      <td>2022-09-26 02:01:18+00:00</td>\n",
       "      <td>0</td>\n",
       "      <td>Twitter Web App</td>\n",
       "      <td>thank you for having us at their campuswithaconscience it was a really great sessionmiss had the opportunity to introduce our services and conducted activities</td>\n",
       "      <td>en</td>\n",
       "      <td>thank u campuswithaconscience really great sessionmiss opportunity introduce service conducted activity</td>\n",
       "      <td>0.000</td>\n",
       "      <td>0.674</td>\n",
       "      <td>0.326</td>\n",
       "      <td>0.8655</td>\n",
       "      <td>1</td>\n",
       "    </tr>\n",
       "    <tr>\n",
       "      <th>15</th>\n",
       "      <td>iamflorahh</td>\n",
       "      <td>2022-09-25 16:04:57+00:00</td>\n",
       "      <td>3</td>\n",
       "      <td>Twitter Web App</td>\n",
       "      <td>these two amazing people daniel roman director of sunday university together with ida the co trunk about roman foundation what an inspiration</td>\n",
       "      <td>en</td>\n",
       "      <td>two amazing people daniel roman director sunday university together ida co trunk roman foundation inspiration</td>\n",
       "      <td>0.000</td>\n",
       "      <td>0.735</td>\n",
       "      <td>0.265</td>\n",
       "      <td>0.8020</td>\n",
       "      <td>1</td>\n",
       "    </tr>\n",
       "    <tr>\n",
       "      <th>16</th>\n",
       "      <td>theedgemalaysia</td>\n",
       "      <td>2022-09-25 12:35:04+00:00</td>\n",
       "      <td>2</td>\n",
       "      <td>ProdTheEdgeMarketsFeedAPI</td>\n",
       "      <td>sunday university hosts weeklong festival in support of un sustainable development goals</td>\n",
       "      <td>en</td>\n",
       "      <td>sunday university host weeklong festival support un sustainable development goal</td>\n",
       "      <td>0.000</td>\n",
       "      <td>0.629</td>\n",
       "      <td>0.371</td>\n",
       "      <td>0.7096</td>\n",
       "      <td>1</td>\n",
       "    </tr>\n",
       "    <tr>\n",
       "      <th>17</th>\n",
       "      <td>staronline</td>\n",
       "      <td>2022-09-25 00:33:00+00:00</td>\n",
       "      <td>0</td>\n",
       "      <td>TwitterRSSTSOLAgent</td>\n",
       "      <td>sunday university hosts week long sg festival</td>\n",
       "      <td>en</td>\n",
       "      <td>sunday university host week long sg festival</td>\n",
       "      <td>0.000</td>\n",
       "      <td>0.652</td>\n",
       "      <td>0.348</td>\n",
       "      <td>0.4939</td>\n",
       "      <td>1</td>\n",
       "    </tr>\n",
       "    <tr>\n",
       "      <th>18</th>\n",
       "      <td>CJMalaysia</td>\n",
       "      <td>2022-09-25 00:30:00+00:00</td>\n",
       "      <td>0</td>\n",
       "      <td>Twitter Web App</td>\n",
       "      <td>this unique festival at sunday university is first of its kind in asia features talks performances interactive workshops and corporate displays read more</td>\n",
       "      <td>en</td>\n",
       "      <td>unique festival sunday university first kind asia feature talk performance interactive workshop corporate display read</td>\n",
       "      <td>0.000</td>\n",
       "      <td>0.761</td>\n",
       "      <td>0.239</td>\n",
       "      <td>0.7650</td>\n",
       "      <td>1</td>\n",
       "    </tr>\n",
       "    <tr>\n",
       "      <th>19</th>\n",
       "      <td>MengKeetYong</td>\n",
       "      <td>2022-09-24 14:49:30+00:00</td>\n",
       "      <td>0</td>\n",
       "      <td>Twitter for iPhone</td>\n",
       "      <td>an calumny event of sunday university</td>\n",
       "      <td>en</td>\n",
       "      <td>calumny event sunday university</td>\n",
       "      <td>0.000</td>\n",
       "      <td>1.000</td>\n",
       "      <td>0.000</td>\n",
       "      <td>0.0000</td>\n",
       "      <td>0</td>\n",
       "    </tr>\n",
       "  </tbody>\n",
       "</table>\n",
       "</div>"
      ],
      "text/plain": [
       "               User               Date_Created  Number_of_Likes  \\\n",
       "0           jkmkhoo  2022-09-29 13:30:47+00:00                2   \n",
       "1          eurospan  2022-09-29 09:46:32+00:00                0   \n",
       "2         SunwayCPH  2022-09-29 08:30:05+00:00                4   \n",
       "3    keenguyencaphe  2022-09-29 04:13:02+00:00                5   \n",
       "4          Mia7Jane  2022-09-28 11:16:17+00:00                1   \n",
       "5         SunwayCPH  2022-09-27 06:52:59+00:00                3   \n",
       "6         SunwayCPH  2022-09-27 06:17:26+00:00                4   \n",
       "7         SunwayCPH  2022-09-27 06:17:23+00:00                4   \n",
       "8         SunwayCPH  2022-09-27 06:17:20+00:00                5   \n",
       "9          Mia7Jane  2022-09-26 23:38:57+00:00                3   \n",
       "10     great_peters  2022-09-26 14:22:13+00:00                0   \n",
       "11     michellengms  2022-09-26 12:27:00+00:00               30   \n",
       "12  sunwayechomedia  2022-09-26 10:30:09+00:00                0   \n",
       "13       thekopidao  2022-09-26 02:51:36+00:00               19   \n",
       "14    MIASAMalaysia  2022-09-26 02:01:18+00:00                0   \n",
       "15       iamflorahh  2022-09-25 16:04:57+00:00                3   \n",
       "16  theedgemalaysia  2022-09-25 12:35:04+00:00                2   \n",
       "17       staronline  2022-09-25 00:33:00+00:00                0   \n",
       "18       CJMalaysia  2022-09-25 00:30:00+00:00                0   \n",
       "19     MengKeetYong  2022-09-24 14:49:30+00:00                0   \n",
       "\n",
       "              Source_of_Tweet  \\\n",
       "0             Twitter Web App   \n",
       "1             Twitter Web App   \n",
       "2          Twitter for iPhone   \n",
       "3         Twitter for Android   \n",
       "4         Twitter for Android   \n",
       "5          Twitter for iPhone   \n",
       "6          Twitter for iPhone   \n",
       "7          Twitter for iPhone   \n",
       "8          Twitter for iPhone   \n",
       "9         Twitter for Android   \n",
       "10          Revive Social App   \n",
       "11         Twitter for iPhone   \n",
       "12              WordPress.com   \n",
       "13            Twitter Web App   \n",
       "14            Twitter Web App   \n",
       "15            Twitter Web App   \n",
       "16  ProdTheEdgeMarketsFeedAPI   \n",
       "17        TwitterRSSTSOLAgent   \n",
       "18            Twitter Web App   \n",
       "19         Twitter for iPhone   \n",
       "\n",
       "                                                                                                                                                                                                                                                           Tweet  \\\n",
       "0                                                                                                                                                                         this restaurant at near sunday university might suit a british palate well winkingface   \n",
       "1                                                                              exciting news sunday university press have launched a branded short story competition inspired by the un sustainable development goals you can find out more on european blow now   \n",
       "2                                                                                        check this outour chief plantar health scientist dris in the latest episode of katipunan dialogue podcast speakingheadplanetaryhealth sunwaycph sunwayuniversity upside   \n",
       "3               thus that was an amazing weekend as see nguyễn went on the loose to bring vietnams finest coffee into sunday university big buds keenguyensunway for all hardware and we hope one sip brings you vienna or back already winkingfacegot events do   \n",
       "4                                                                                                                                                             he asked dr jane from sunday university but not malaysia grinningsquintingface mosthappeningcampus   \n",
       "5                                                                                                  truly one of the greatestMalaysiagreenheart thank your this special feature on our executive directorplanetaryhealth sunwaycph sunwayuniversity climatecrisis   \n",
       "6                                                                                                                                             thank your visiting us exciting things aheadunicefmalaysia sunwaycph planetaryhealth sunwayuniversity sunwayxfarms   \n",
       "7                  we gave them the tour of wonderful sunday university camps farms amp our office at graduate centre ​we also discussed future joint research advocacy plans raisinghandsunicefmalaysia sunwaycph planetaryhealth sunwayuniversity sunwayxfarms   \n",
       "8                                                                                                                                                   last week our friends fromvisited us ​unicefmalaysia sunwaycph planetaryhealth sunwayuniversity sunwayxfarms   \n",
       "9                                                                                                       afterweeks in france a pad student stopped me and asked are you dr jane from sunday university was she in popular i know it havana grinningsquintingface   \n",
       "10                                                                                                                                                                                                              sunday university international awards malaysia    \n",
       "11  slowing climate change requires behavior changed it is the duty of governments to facilitate this for its citizenswe are very glad be working with our partners like sunday university in sharing message on plantar health conservation and sustainability    \n",
       "12                                             if you are currently studying in sunday college or university would definitely have heard of student ambassadors most recent event action that was held from the th august to rd septemberread on for more action   \n",
       "13                         we had another successful event with sunday university this past friday thank you and teach club for putting togetherwatch out shippers of the session and launch our web fundamentals course in octoberweb kopidao elated blockchain   \n",
       "14                                                                                               thank you for having us at their campuswithaconscience it was a really great sessionmiss had the opportunity to introduce our services and conducted activities   \n",
       "15                                                                                                                 these two amazing people daniel roman director of sunday university together with ida the co trunk about roman foundation what an inspiration   \n",
       "16                                                                                                                                                                      sunday university hosts weeklong festival in support of un sustainable development goals   \n",
       "17                                                                                                                                                                                                                 sunday university hosts week long sg festival   \n",
       "18                                                                                                     this unique festival at sunday university is first of its kind in asia features talks performances interactive workshops and corporate displays read more   \n",
       "19                                                                                                                                                                                                                         an calumny event of sunday university   \n",
       "\n",
       "   Language  \\\n",
       "0        en   \n",
       "1        en   \n",
       "2        en   \n",
       "3        en   \n",
       "4        en   \n",
       "5        en   \n",
       "6        en   \n",
       "7        en   \n",
       "8        en   \n",
       "9        en   \n",
       "10       en   \n",
       "11       en   \n",
       "12       en   \n",
       "13       en   \n",
       "14       en   \n",
       "15       en   \n",
       "16       en   \n",
       "17       en   \n",
       "18       en   \n",
       "19       en   \n",
       "\n",
       "                                                                                                                                                                                                     Tokenized_Tweet  \\\n",
       "0                                                                                                                                       restaurant near sunday university might suit british palate well winkingface   \n",
       "1                                                                         exciting news sunday university press launched branded short story competition inspired un sustainable development goal find european blow   \n",
       "2                                                           check outour chief plantar health scientist dris latest episode katipunan dialogue podcast speakingheadplanetaryhealth sunwaycph sunwayuniversity upside   \n",
       "3                             thus amazing weekend see nguyễn went loose bring vietnam finest coffee sunday university big bud keenguyensunway hardware hope one sip brings vienna back already winkingfacegot event   \n",
       "4                                                                                                                                 asked dr jane sunday university malaysia grinningsquintingface mosthappeningcampus   \n",
       "5                                                                              truly one greatestMalaysiagreenheart thank special feature executive directorplanetaryhealth sunwaycph sunwayuniversity climatecrisis   \n",
       "6                                                                                                        thank visiting u exciting thing aheadunicefmalaysia sunwaycph planetaryhealth sunwayuniversity sunwayxfarms   \n",
       "7   gave tour wonderful sunday university camp farm amp office graduate centre also discussed future joint research advocacy plan raisinghandsunicefmalaysia sunwaycph planetaryhealth sunwayuniversity sunwayxfarms   \n",
       "8                                                                                                              last week friend fromvisited u unicefmalaysia sunwaycph planetaryhealth sunwayuniversity sunwayxfarms   \n",
       "9                                                                                                    afterweeks france pad student stopped asked dr jane sunday university popular know havana grinningsquintingface   \n",
       "10                                                                                                                                                                   sunday university international award malaysia    \n",
       "11                    slowing climate change requires behavior changed duty government facilitate citizenswe glad working partner like sunday university sharing message plantar health conservation sustainability    \n",
       "12                                                                 currently studying sunday college university would definitely heard student ambassador recent event action held th august rd septemberread action   \n",
       "13                                  another successful event sunday university past friday thank teach club putting togetherwatch shipper session launch web fundamental course octoberweb kopidao elated blockchain   \n",
       "14                                                                                                           thank u campuswithaconscience really great sessionmiss opportunity introduce service conducted activity   \n",
       "15                                                                                                     two amazing people daniel roman director sunday university together ida co trunk roman foundation inspiration   \n",
       "16                                                                                                                                  sunday university host weeklong festival support un sustainable development goal   \n",
       "17                                                                                                                                                                      sunday university host week long sg festival   \n",
       "18                                                                                            unique festival sunday university first kind asia feature talk performance interactive workshop corporate display read   \n",
       "19                                                                                                                                                                                   calumny event sunday university   \n",
       "\n",
       "    Negative  Neutral  Positive  Compound Sentiment  \n",
       "0      0.000    0.840     0.160    0.2732         1  \n",
       "1      0.000    0.752     0.248    0.7845         1  \n",
       "2      0.000    1.000     0.000    0.0000         0  \n",
       "3      0.049    0.809     0.143    0.6597         1  \n",
       "4      0.000    1.000     0.000    0.0000         0  \n",
       "5      0.000    0.633     0.367    0.7964         1  \n",
       "6      0.000    0.612     0.388    0.6908         1  \n",
       "7      0.000    0.887     0.113    0.5719         1  \n",
       "8      0.000    0.763     0.237    0.4767         1  \n",
       "9      0.071    0.824     0.105    0.2263         1  \n",
       "10     0.000    0.571     0.429    0.4588         1  \n",
       "11     0.000    0.803     0.197    0.8221         1  \n",
       "12     0.000    0.926     0.074    0.4019         1  \n",
       "13     0.000    0.753     0.247    0.8885         1  \n",
       "14     0.000    0.674     0.326    0.8655         1  \n",
       "15     0.000    0.735     0.265    0.8020         1  \n",
       "16     0.000    0.629     0.371    0.7096         1  \n",
       "17     0.000    0.652     0.348    0.4939         1  \n",
       "18     0.000    0.761     0.239    0.7650         1  \n",
       "19     0.000    1.000     0.000    0.0000         0  "
      ]
     },
     "execution_count": 7,
     "metadata": {},
     "output_type": "execute_result"
    }
   ],
   "source": [
    "df.head(20)"
   ]
  },
  {
   "cell_type": "markdown",
   "id": "a964759d",
   "metadata": {},
   "source": [
    "## Split the Dataframe"
   ]
  },
  {
   "cell_type": "code",
   "execution_count": 8,
   "id": "befa4351",
   "metadata": {},
   "outputs": [],
   "source": [
    "# State random state for reproducibility\n",
    "RS = 7 "
   ]
  },
  {
   "cell_type": "code",
   "execution_count": 9,
   "id": "fa0fb0f1",
   "metadata": {},
   "outputs": [],
   "source": [
    "X = df.loc[:, 'Tweet']\n",
    "Y= df.iloc[:,-1]"
   ]
  },
  {
   "cell_type": "code",
   "execution_count": 10,
   "id": "7cb73369",
   "metadata": {},
   "outputs": [],
   "source": [
    "X_train, X_test, Y_train, Y_test = train_test_split(X,Y, test_size = 0.2, random_state = RS, stratify = df['Sentiment'])"
   ]
  },
  {
   "cell_type": "code",
   "execution_count": 11,
   "id": "fb6d08f2",
   "metadata": {
    "scrolled": true
   },
   "outputs": [
    {
     "name": "stdout",
     "output_type": "stream",
     "text": [
      "(3325,)\n",
      "(3325,)\n",
      "(832,)\n",
      "(832,)\n"
     ]
    }
   ],
   "source": [
    "print(X_train.shape)\n",
    "print(Y_train.shape)\n",
    "print(X_test.shape)\n",
    "print(Y_test.shape)"
   ]
  },
  {
   "cell_type": "markdown",
   "id": "8ab4a83f",
   "metadata": {},
   "source": [
    "# Sentiment Classification"
   ]
  },
  {
   "cell_type": "markdown",
   "id": "7986261f",
   "metadata": {},
   "source": [
    "## Logistic Regression (LR)"
   ]
  },
  {
   "cell_type": "code",
   "execution_count": 12,
   "id": "5b8376a5",
   "metadata": {},
   "outputs": [],
   "source": [
    "stopword = nltk.corpus.stopwords.words('english')"
   ]
  },
  {
   "cell_type": "code",
   "execution_count": 11,
   "id": "6ac774d4",
   "metadata": {
    "scrolled": true
   },
   "outputs": [
    {
     "name": "stdout",
     "output_type": "stream",
     "text": [
      "CPU times: total: 0 ns\n",
      "Wall time: 0 ns\n"
     ]
    }
   ],
   "source": [
    "%%time\n",
    "# To create pipeline for algorithms.\n",
    "pipeline1 = Pipeline([\n",
    "    ('tfidf', TfidfVectorizer(stop_words=stopword, sublinear_tf=True, strip_accents='unicode', analyzer='word', \n",
    "                              token_pattern=r'\\b\\w+\\b', ngram_range=(1,1), max_features=30000)),\n",
    "    ('classifier',LogisticRegression(solver='sag', random_state=RS))\n",
    "    ])"
   ]
  },
  {
   "cell_type": "code",
   "execution_count": 12,
   "id": "cb8865a3",
   "metadata": {},
   "outputs": [],
   "source": [
    "# To fit Logistis Regression to training set.\n",
    "pipeline1.fit(X_train,Y_train)\n",
    "predictions1 = pipeline1.predict(X_test)\n",
    "predictproba1 = pipeline1.predict_proba(X_test)"
   ]
  },
  {
   "cell_type": "code",
   "execution_count": 13,
   "id": "bca69aaa",
   "metadata": {
    "scrolled": true
   },
   "outputs": [
    {
     "name": "stdout",
     "output_type": "stream",
     "text": [
      "Classification report\n",
      "              precision    recall  f1-score   support\n",
      "\n",
      "          -1       0.91      0.10      0.18       100\n",
      "           0       0.78      0.47      0.59       241\n",
      "           1       0.70      0.97      0.81       491\n",
      "\n",
      "    accuracy                           0.72       832\n",
      "   macro avg       0.80      0.51      0.53       832\n",
      "weighted avg       0.75      0.72      0.67       832\n",
      "\n",
      "Confusion Matrix\n",
      "[[ 10  16  74]\n",
      " [  0 114 127]\n",
      " [  1  16 474]]\n",
      "\n",
      "AUC ROC Score: 0.8645130499074979\n"
     ]
    }
   ],
   "source": [
    "# To evaluate the performance of the algorithms to testing set.\n",
    "print('Classification report', classification_report(Y_test, predictions1), sep='\\n')\n",
    "print('Confusion Matrix', confusion_matrix(Y_test,predictions1),sep='\\n')\n",
    "print(\"\\nAUC ROC Score:\", roc_auc_score(Y_test,predictproba1, multi_class='ovr', average='weighted'))"
   ]
  },
  {
   "cell_type": "code",
   "execution_count": 14,
   "id": "980d90cd",
   "metadata": {},
   "outputs": [
    {
     "name": "stdout",
     "output_type": "stream",
     "text": [
      "Average CV Accuracy Score:  0.7160877745215095\n",
      "CPU times: total: 1.17 s\n",
      "Wall time: 1.18 s\n"
     ]
    }
   ],
   "source": [
    "%%time\n",
    "# For accuracy score of algorithms with cross validation.\n",
    "sk_folds = StratifiedKFold(n_splits = 10)\n",
    "scores = cross_val_score(pipeline1, X_train, Y_train, cv = sk_folds)\n",
    "print(\"Average CV Accuracy Score: \", scores.mean())"
   ]
  },
  {
   "cell_type": "markdown",
   "id": "40c1b8ba",
   "metadata": {},
   "source": [
    "## Multinomial Naive Baiyes (NB)"
   ]
  },
  {
   "cell_type": "code",
   "execution_count": 15,
   "id": "9086baf7",
   "metadata": {
    "scrolled": true
   },
   "outputs": [
    {
     "name": "stdout",
     "output_type": "stream",
     "text": [
      "CPU times: total: 0 ns\n",
      "Wall time: 0 ns\n"
     ]
    }
   ],
   "source": [
    "%%time\n",
    "# To create pipeline for algorithms.\n",
    "pipeline2 = Pipeline([\n",
    "    ('tfidf', TfidfVectorizer(stop_words=stopword, sublinear_tf=True, strip_accents='unicode', analyzer='word', \n",
    "                              token_pattern=r'\\b\\w+\\b', ngram_range=(1,1), max_features=30000)),\n",
    "    ('classifier',MultinomialNB())\n",
    "    ])"
   ]
  },
  {
   "cell_type": "code",
   "execution_count": 16,
   "id": "f8290420",
   "metadata": {},
   "outputs": [],
   "source": [
    "# To fit Multinomial NB to training set.\n",
    "pipeline2.fit(X_train,Y_train)\n",
    "predictions2 = pipeline2.predict(X_test)\n",
    "predictproba2 = pipeline2.predict_proba(X_test)"
   ]
  },
  {
   "cell_type": "code",
   "execution_count": 17,
   "id": "6826b52c",
   "metadata": {
    "scrolled": true
   },
   "outputs": [
    {
     "name": "stdout",
     "output_type": "stream",
     "text": [
      "Classification report\n",
      "              precision    recall  f1-score   support\n",
      "\n",
      "          -1       1.00      0.03      0.06       100\n",
      "           0       0.90      0.15      0.25       241\n",
      "           1       0.62      0.99      0.76       491\n",
      "\n",
      "    accuracy                           0.63       832\n",
      "   macro avg       0.84      0.39      0.36       832\n",
      "weighted avg       0.74      0.63      0.53       832\n",
      "\n",
      "Confusion Matrix\n",
      "[[  3   1  96]\n",
      " [  0  35 206]\n",
      " [  0   3 488]]\n",
      "\n",
      "AUC ROC Score: 0.8371405470147537\n"
     ]
    }
   ],
   "source": [
    "# To evaluate the performance of the algorithms to testing set.\n",
    "print('Classification report', classification_report(Y_test,predictions2), sep='\\n')\n",
    "print('Confusion Matrix', confusion_matrix(Y_test,predictions2),sep='\\n')\n",
    "print(\"\\nAUC ROC Score:\", roc_auc_score(Y_test,predictproba2, multi_class='ovr', average='weighted'))"
   ]
  },
  {
   "cell_type": "code",
   "execution_count": 18,
   "id": "d463e595",
   "metadata": {},
   "outputs": [
    {
     "name": "stdout",
     "output_type": "stream",
     "text": [
      "Average CV Accuracy Score:  0.6267601939288686\n",
      "CPU times: total: 891 ms\n",
      "Wall time: 875 ms\n"
     ]
    }
   ],
   "source": [
    "%%time\n",
    "sk_folds = StratifiedKFold(n_splits = 10)\n",
    "scores = cross_val_score(pipeline2, X_train, Y_train, cv = sk_folds)\n",
    "print(\"Average CV Accuracy Score: \", scores.mean())"
   ]
  },
  {
   "cell_type": "markdown",
   "id": "7ae78a65",
   "metadata": {},
   "source": [
    "## Support Vector Machine (SVM)"
   ]
  },
  {
   "cell_type": "code",
   "execution_count": 19,
   "id": "fb066b7e",
   "metadata": {
    "scrolled": true
   },
   "outputs": [],
   "source": [
    "# To create pipeline for algorithms.\n",
    "pipeline3 = Pipeline([\n",
    "                ('tfidf', TfidfVectorizer(stop_words=stopword, sublinear_tf=True, strip_accents='unicode', analyzer='word', \n",
    "                              token_pattern=r'\\b\\w+\\b', ngram_range=(1,1), max_features=30000)),\n",
    "                ('classifier', OneVsRestClassifier(SVC(probability=True, random_state=RS), n_jobs=-1))\n",
    "            ])"
   ]
  },
  {
   "cell_type": "code",
   "execution_count": 20,
   "id": "d1f1c4e6",
   "metadata": {},
   "outputs": [
    {
     "name": "stdout",
     "output_type": "stream",
     "text": [
      "CPU times: total: 1.95 s\n",
      "Wall time: 11.9 s\n"
     ]
    }
   ],
   "source": [
    "%%time\n",
    "# To fit Support Vector Machine to the training set.\n",
    "pipeline3.fit(X_train,Y_train)\n",
    "predictions3 = pipeline3.predict(X_test)\n",
    "predictproba3 = pipeline3.predict_proba(X_test)"
   ]
  },
  {
   "cell_type": "code",
   "execution_count": 21,
   "id": "df660814",
   "metadata": {},
   "outputs": [
    {
     "name": "stdout",
     "output_type": "stream",
     "text": [
      "Classification report\n",
      "              precision    recall  f1-score   support\n",
      "\n",
      "          -1       0.94      0.15      0.26       100\n",
      "           0       0.86      0.40      0.55       241\n",
      "           1       0.68      0.98      0.81       491\n",
      "\n",
      "    accuracy                           0.71       832\n",
      "   macro avg       0.83      0.51      0.54       832\n",
      "weighted avg       0.77      0.71      0.67       832\n",
      "\n",
      "Confusion Matrix\n",
      "[[ 15   7  78]\n",
      " [  0  97 144]\n",
      " [  1   9 481]]\n",
      "\n",
      "AUC ROC Score: 0.8656640959463348\n"
     ]
    }
   ],
   "source": [
    "# To evaluate the performance of the algorithms to testing set.\n",
    "print('Classification report', classification_report(Y_test, predictions3), sep='\\n')\n",
    "print('Confusion Matrix', confusion_matrix(Y_test, predictions3),sep='\\n')\n",
    "print(\"\\nAUC ROC Score:\", roc_auc_score(Y_test,predictproba3, multi_class='ovr', average='weighted'))"
   ]
  },
  {
   "cell_type": "code",
   "execution_count": 22,
   "id": "f31d7012",
   "metadata": {},
   "outputs": [
    {
     "name": "stdout",
     "output_type": "stream",
     "text": [
      "Average CV Accuracy Score:  0.704058576648938\n",
      "CPU times: total: 4.5 s\n",
      "Wall time: 1min 15s\n"
     ]
    }
   ],
   "source": [
    "%%time\n",
    "sk_folds = StratifiedKFold(n_splits = 10)\n",
    "scores = cross_val_score(pipeline3, X_train, Y_train, cv = sk_folds)\n",
    "print(\"Average CV Accuracy Score: \", scores.mean())"
   ]
  },
  {
   "cell_type": "markdown",
   "id": "06055bc2",
   "metadata": {},
   "source": [
    "## Decision Tree (DT)"
   ]
  },
  {
   "cell_type": "code",
   "execution_count": 23,
   "id": "b9a72e1c",
   "metadata": {},
   "outputs": [],
   "source": [
    "# To create pipeline for algorithms.\n",
    "pipeline4 = Pipeline([\n",
    "                ('tfidf', TfidfVectorizer(stop_words=stopword, sublinear_tf=True, strip_accents='unicode', analyzer='word', \n",
    "                              token_pattern=r'\\w{1,}', ngram_range=(1,1), max_features=30000)),\n",
    "                ('classifier', DecisionTreeClassifier(random_state=RS))\n",
    "            ])"
   ]
  },
  {
   "cell_type": "code",
   "execution_count": 24,
   "id": "7105424f",
   "metadata": {},
   "outputs": [
    {
     "name": "stdout",
     "output_type": "stream",
     "text": [
      "CPU times: total: 1.48 s\n",
      "Wall time: 1.49 s\n"
     ]
    }
   ],
   "source": [
    "%%time\n",
    "# To fit Decision Tree to the training set.\n",
    "pipeline4.fit(X_train,Y_train)\n",
    "predictions4 = pipeline4.predict(X_test)\n",
    "predictproba4 = pipeline4.predict_proba(X_test)"
   ]
  },
  {
   "cell_type": "code",
   "execution_count": 25,
   "id": "9b6a9039",
   "metadata": {},
   "outputs": [
    {
     "name": "stdout",
     "output_type": "stream",
     "text": [
      "Classification report\n",
      "              precision    recall  f1-score   support\n",
      "\n",
      "          -1       0.46      0.29      0.36       100\n",
      "           0       0.48      0.58      0.53       241\n",
      "           1       0.73      0.71      0.72       491\n",
      "\n",
      "    accuracy                           0.62       832\n",
      "   macro avg       0.56      0.53      0.53       832\n",
      "weighted avg       0.63      0.62      0.62       832\n",
      "\n",
      "Confusion Matrix\n",
      "[[ 29  32  39]\n",
      " [ 13 140  88]\n",
      " [ 21 120 350]]\n",
      "\n",
      "AUC ROC Score: 0.6619633468096802\n"
     ]
    }
   ],
   "source": [
    "# To evaluate the performance of the algorithms to testing set.\n",
    "print(\"Classification report\", classification_report(Y_test, predictions4), sep=\"\\n\")\n",
    "print(\"Confusion Matrix\", confusion_matrix(Y_test, predictions4),sep=\"\\n\")\n",
    "print(\"\\nAUC ROC Score:\", roc_auc_score(Y_test,predictproba4, multi_class='ovr', average='weighted'))"
   ]
  },
  {
   "cell_type": "code",
   "execution_count": 26,
   "id": "0115abad",
   "metadata": {},
   "outputs": [
    {
     "name": "stdout",
     "output_type": "stream",
     "text": [
      "Average CV Accuracy Score:  0.6279767719526756\n",
      "CPU times: total: 12.3 s\n",
      "Wall time: 12.6 s\n"
     ]
    }
   ],
   "source": [
    "%%time\n",
    "# For accuracy score of algorithms with cross validation.\n",
    "sk_folds = StratifiedKFold(n_splits = 10)\n",
    "scores = cross_val_score(pipeline4, X_train, Y_train, cv = sk_folds)\n",
    "print(\"Average CV Accuracy Score: \", scores.mean())"
   ]
  },
  {
   "cell_type": "markdown",
   "id": "174419d5",
   "metadata": {},
   "source": [
    "## Random Forest (RF)"
   ]
  },
  {
   "cell_type": "code",
   "execution_count": 27,
   "id": "8b2c7de3",
   "metadata": {
    "scrolled": true
   },
   "outputs": [],
   "source": [
    "# To create pipeline for algorithms.\n",
    "pipeline5 = Pipeline([\n",
    "                ('tfidf', TfidfVectorizer(stop_words=stopword, sublinear_tf=True, strip_accents='unicode', analyzer='word', \n",
    "                              token_pattern=r'\\b\\w+\\b', ngram_range=(1,1), max_features=30000)),\n",
    "                ('classifier', RandomForestClassifier(random_state=RS, n_jobs=-1))\n",
    "            ])"
   ]
  },
  {
   "cell_type": "code",
   "execution_count": 28,
   "id": "c70ec14b",
   "metadata": {
    "scrolled": true
   },
   "outputs": [
    {
     "name": "stdout",
     "output_type": "stream",
     "text": [
      "CPU times: total: 15.2 s\n",
      "Wall time: 2.3 s\n"
     ]
    }
   ],
   "source": [
    "%%time\n",
    "# To fit Random Forest to the training set.\n",
    "pipeline5.fit(X_train,Y_train)\n",
    "predictions5 = pipeline5.predict(X_test)\n",
    "predictproba5 = pipeline5.predict_proba(X_test)"
   ]
  },
  {
   "cell_type": "code",
   "execution_count": 29,
   "id": "66a676a8",
   "metadata": {},
   "outputs": [
    {
     "name": "stdout",
     "output_type": "stream",
     "text": [
      "Classification report\n",
      "              precision    recall  f1-score   support\n",
      "\n",
      "          -1       0.92      0.22      0.35       100\n",
      "           0       0.62      0.67      0.65       241\n",
      "           1       0.75      0.84      0.79       491\n",
      "\n",
      "    accuracy                           0.72       832\n",
      "   macro avg       0.76      0.58      0.60       832\n",
      "weighted avg       0.73      0.72      0.70       832\n",
      "\n",
      "Confusion Matrix\n",
      "[[ 22  21  57]\n",
      " [  0 162  79]\n",
      " [  2  78 411]]\n",
      "\n",
      "AUC ROC Score: 0.8446858194725516\n"
     ]
    }
   ],
   "source": [
    "# To evaluate the performance of the algorithms to testing set.\n",
    "print(\"Classification report\", classification_report(Y_test, predictions5), sep=\"\\n\")\n",
    "print(\"Confusion Matrix\", confusion_matrix(Y_test, predictions5),sep=\"\\n\")\n",
    "print(\"\\nAUC ROC Score:\", roc_auc_score(Y_test,predictproba5, multi_class='ovr', average='weighted'))"
   ]
  },
  {
   "cell_type": "code",
   "execution_count": 30,
   "id": "775436d3",
   "metadata": {},
   "outputs": [
    {
     "name": "stdout",
     "output_type": "stream",
     "text": [
      "Average CV Accuracy Score:  0.7179022395889866\n",
      "CPU times: total: 4.12 s\n",
      "Wall time: 22.7 s\n"
     ]
    }
   ],
   "source": [
    "%%time\n",
    "sk_folds = StratifiedKFold(n_splits = 10)\n",
    "scores = cross_val_score(pipeline5, X_train, Y_train, cv = sk_folds)\n",
    "print(\"Average CV Accuracy Score: \", scores.mean())"
   ]
  },
  {
   "cell_type": "markdown",
   "id": "da645e96",
   "metadata": {},
   "source": [
    "## Gradient Boosting (GB)"
   ]
  },
  {
   "cell_type": "code",
   "execution_count": 31,
   "id": "3eefee6a",
   "metadata": {
    "scrolled": true
   },
   "outputs": [],
   "source": [
    "# To create pipeline for algorithms.\n",
    "pipeline6 = Pipeline([\n",
    "                ('tfidf', TfidfVectorizer(stop_words=stopword, sublinear_tf=True, strip_accents='unicode', analyzer='word', \n",
    "                              token_pattern=r'\\b\\w+\\b', ngram_range=(1,1), max_features=30000)),\n",
    "                ('classifier', GradientBoostingClassifier(random_state=RS))\n",
    "            ])"
   ]
  },
  {
   "cell_type": "code",
   "execution_count": 32,
   "id": "b23f84f7",
   "metadata": {},
   "outputs": [],
   "source": [
    "# To fit Gradient Boosting to the training set.\n",
    "pipeline6.fit(X_train,Y_train)\n",
    "predictions6 = pipeline6.predict(X_test)\n",
    "predictproba6 = pipeline6.predict_proba(X_test)"
   ]
  },
  {
   "cell_type": "code",
   "execution_count": 33,
   "id": "fe38f19a",
   "metadata": {
    "scrolled": true
   },
   "outputs": [
    {
     "name": "stdout",
     "output_type": "stream",
     "text": [
      "Classification report\n",
      "              precision    recall  f1-score   support\n",
      "\n",
      "          -1       0.72      0.28      0.40       100\n",
      "           0       0.64      0.53      0.58       241\n",
      "           1       0.71      0.86      0.78       491\n",
      "\n",
      "    accuracy                           0.70       832\n",
      "   macro avg       0.69      0.56      0.59       832\n",
      "weighted avg       0.69      0.70      0.68       832\n",
      "\n",
      "Confusion Matrix\n",
      "[[ 28  13  59]\n",
      " [  1 128 112]\n",
      " [ 10  58 423]]\n",
      "\n",
      "AUC ROC Score: 0.8322041396151942\n"
     ]
    }
   ],
   "source": [
    "# To evaluate the performance of the algorithms to testing set.\n",
    "print(\"Classification report\", classification_report(Y_test, predictions6), sep=\"\\n\")\n",
    "print(\"Confusion Matrix\", confusion_matrix(Y_test, predictions6),sep=\"\\n\")\n",
    "print(\"\\nAUC ROC Score:\", roc_auc_score(Y_test,predictproba6, multi_class='ovr', average='weighted'))"
   ]
  },
  {
   "cell_type": "code",
   "execution_count": 34,
   "id": "0f3cefd2",
   "metadata": {},
   "outputs": [
    {
     "name": "stdout",
     "output_type": "stream",
     "text": [
      "Average CV Accuracy Score:  0.668011468952734\n",
      "CPU times: total: 2min 25s\n",
      "Wall time: 2min 27s\n"
     ]
    }
   ],
   "source": [
    "%%time\n",
    "sk_folds = StratifiedKFold(n_splits = 10)\n",
    "scores = cross_val_score(pipeline6, X, Y, cv = sk_folds)\n",
    "print(\"Average CV Accuracy Score: \", scores.mean())"
   ]
  },
  {
   "cell_type": "markdown",
   "id": "db3308ae",
   "metadata": {},
   "source": [
    "# Hyperparameter Tuning"
   ]
  },
  {
   "cell_type": "markdown",
   "id": "a6a35610",
   "metadata": {},
   "source": [
    "## LR"
   ]
  },
  {
   "cell_type": "code",
   "execution_count": 35,
   "id": "f1ce61a8",
   "metadata": {},
   "outputs": [
    {
     "name": "stdout",
     "output_type": "stream",
     "text": [
      "CPU times: total: 1.39 s\n",
      "Wall time: 10.2 s\n"
     ]
    }
   ],
   "source": [
    "%%time\n",
    "# Hyperparameter tuning for LR\n",
    "hyppipe1 = Pipeline([\n",
    "    ('tfidf', TfidfVectorizer(stop_words=stopword, sublinear_tf=True, strip_accents='unicode', \n",
    "                              token_pattern=r'\\b\\w+\\b', analyzer='word', ngram_range=(1,1))),\n",
    "     ('classifier',LogisticRegression(class_weight='balanced', random_state=RS))\n",
    "    ])\n",
    "\n",
    "param_grid1 = {'tfidf__max_features': [10000, 30000],\n",
    "              'classifier__solver': ['newton-cg', 'lbfgs', 'liblinear', 'sag', 'saga']\n",
    "             } \n",
    "\n",
    "grid = GridSearchCV(hyppipe1, param_grid1, cv=10, scoring='roc_auc_ovr_weighted', n_jobs=-1)\n",
    "\n",
    "grid1 = grid.fit(X_train, Y_train)"
   ]
  },
  {
   "cell_type": "code",
   "execution_count": 36,
   "id": "c7451737",
   "metadata": {},
   "outputs": [
    {
     "name": "stdout",
     "output_type": "stream",
     "text": [
      "LogisticRegression(class_weight='balanced', random_state=7)\n",
      "TfidfVectorizer(max_features=10000,\n",
      "                stop_words=['i', 'me', 'my', 'myself', 'we', 'our', 'ours',\n",
      "                            'ourselves', 'you', \"you're\", \"you've\", \"you'll\",\n",
      "                            \"you'd\", 'your', 'yours', 'yourself', 'yourselves',\n",
      "                            'he', 'him', 'his', 'himself', 'she', \"she's\",\n",
      "                            'her', 'hers', 'herself', 'it', \"it's\", 'its',\n",
      "                            'itself', ...],\n",
      "                strip_accents='unicode', sublinear_tf=True,\n",
      "                token_pattern='\\\\b\\\\w+\\\\b')\n"
     ]
    }
   ],
   "source": [
    "print(grid1.best_estimator_.named_steps['classifier'])\n",
    "print(grid1.best_estimator_.named_steps['tfidf'])"
   ]
  },
  {
   "cell_type": "code",
   "execution_count": 37,
   "id": "61be61ce",
   "metadata": {},
   "outputs": [
    {
     "data": {
      "text/plain": [
       "{'classifier__solver': 'lbfgs', 'tfidf__max_features': 10000}"
      ]
     },
     "execution_count": 37,
     "metadata": {},
     "output_type": "execute_result"
    }
   ],
   "source": [
    "grid1.best_params_"
   ]
  },
  {
   "cell_type": "code",
   "execution_count": 38,
   "id": "3090f483",
   "metadata": {},
   "outputs": [],
   "source": [
    "hypepredictions1 = grid1.predict(X_test)\n",
    "hypepredictproba1 = grid1.predict_proba(X_test)"
   ]
  },
  {
   "cell_type": "code",
   "execution_count": 39,
   "id": "a161f379",
   "metadata": {},
   "outputs": [
    {
     "name": "stdout",
     "output_type": "stream",
     "text": [
      "Classification report\n",
      "              precision    recall  f1-score   support\n",
      "\n",
      "          -1       0.48      0.53      0.50       100\n",
      "           0       0.64      0.71      0.67       241\n",
      "           1       0.83      0.77      0.80       491\n",
      "\n",
      "    accuracy                           0.72       832\n",
      "   macro avg       0.65      0.67      0.66       832\n",
      "weighted avg       0.73      0.72      0.73       832\n",
      "\n",
      "Confusion Matrix\n",
      "[[ 53  19  28]\n",
      " [ 22 170  49]\n",
      " [ 36  77 378]]\n",
      "\n",
      "AUC ROC Score: 0.8638383944861731\n"
     ]
    }
   ],
   "source": [
    "# To evaluate the performance of the algorithms to testing set after hyperparameter tuning.\n",
    "print('Classification report', classification_report(Y_test, hypepredictions1), sep='\\n')\n",
    "print('Confusion Matrix', confusion_matrix(Y_test,hypepredictions1),sep='\\n')\n",
    "print(\"\\nAUC ROC Score:\", roc_auc_score(Y_test,hypepredictproba1, multi_class='ovr', average='weighted'))"
   ]
  },
  {
   "cell_type": "markdown",
   "id": "8750972f",
   "metadata": {},
   "source": [
    "## SVM"
   ]
  },
  {
   "cell_type": "code",
   "execution_count": 40,
   "id": "1b8df663",
   "metadata": {
    "scrolled": true
   },
   "outputs": [
    {
     "name": "stderr",
     "output_type": "stream",
     "text": [
      "C:\\Users\\User\\anaconda3\\envs\\alan_project\\lib\\site-packages\\sklearn\\model_selection\\_validation.py:378: FitFailedWarning: \n",
      "20 fits failed out of a total of 100.\n",
      "The score on these train-test partitions for these parameters will be set to nan.\n",
      "If these failures are not expected, you can try to debug them by setting error_score='raise'.\n",
      "\n",
      "Below are more details about the failures:\n",
      "--------------------------------------------------------------------------------\n",
      "20 fits failed with the following error:\n",
      "Traceback (most recent call last):\n",
      "  File \"C:\\Users\\User\\anaconda3\\envs\\alan_project\\lib\\site-packages\\sklearn\\model_selection\\_validation.py\", line 686, in _fit_and_score\n",
      "    estimator.fit(X_train, y_train, **fit_params)\n",
      "  File \"C:\\Users\\User\\anaconda3\\envs\\alan_project\\lib\\site-packages\\sklearn\\pipeline.py\", line 382, in fit\n",
      "    self._final_estimator.fit(Xt, y, **fit_params_last_step)\n",
      "  File \"C:\\Users\\User\\anaconda3\\envs\\alan_project\\lib\\site-packages\\sklearn\\multiclass.py\", line 327, in fit\n",
      "    self.estimators_ = Parallel(n_jobs=self.n_jobs, verbose=self.verbose)(\n",
      "  File \"C:\\Users\\User\\anaconda3\\envs\\alan_project\\lib\\site-packages\\joblib\\parallel.py\", line 1085, in __call__\n",
      "    if self.dispatch_one_batch(iterator):\n",
      "  File \"C:\\Users\\User\\anaconda3\\envs\\alan_project\\lib\\site-packages\\joblib\\parallel.py\", line 901, in dispatch_one_batch\n",
      "    self._dispatch(tasks)\n",
      "  File \"C:\\Users\\User\\anaconda3\\envs\\alan_project\\lib\\site-packages\\joblib\\parallel.py\", line 819, in _dispatch\n",
      "    job = self._backend.apply_async(batch, callback=cb)\n",
      "  File \"C:\\Users\\User\\anaconda3\\envs\\alan_project\\lib\\site-packages\\joblib\\_parallel_backends.py\", line 208, in apply_async\n",
      "    result = ImmediateResult(func)\n",
      "  File \"C:\\Users\\User\\anaconda3\\envs\\alan_project\\lib\\site-packages\\joblib\\_parallel_backends.py\", line 597, in __init__\n",
      "    self.results = batch()\n",
      "  File \"C:\\Users\\User\\anaconda3\\envs\\alan_project\\lib\\site-packages\\joblib\\parallel.py\", line 288, in __call__\n",
      "    return [func(*args, **kwargs)\n",
      "  File \"C:\\Users\\User\\anaconda3\\envs\\alan_project\\lib\\site-packages\\joblib\\parallel.py\", line 288, in <listcomp>\n",
      "    return [func(*args, **kwargs)\n",
      "  File \"C:\\Users\\User\\anaconda3\\envs\\alan_project\\lib\\site-packages\\sklearn\\utils\\fixes.py\", line 117, in __call__\n",
      "    return self.function(*args, **kwargs)\n",
      "  File \"C:\\Users\\User\\anaconda3\\envs\\alan_project\\lib\\site-packages\\sklearn\\multiclass.py\", line 83, in _fit_binary\n",
      "    estimator.fit(X, y)\n",
      "  File \"C:\\Users\\User\\anaconda3\\envs\\alan_project\\lib\\site-packages\\sklearn\\svm\\_base.py\", line 160, in fit\n",
      "    raise TypeError(\"Sparse precomputed kernels are not supported.\")\n",
      "TypeError: Sparse precomputed kernels are not supported.\n",
      "\n",
      "  warnings.warn(some_fits_failed_message, FitFailedWarning)\n",
      "C:\\Users\\User\\anaconda3\\envs\\alan_project\\lib\\site-packages\\sklearn\\model_selection\\_search.py:953: UserWarning: One or more of the test scores are non-finite: [0.87271322 0.87194146 0.80557801 0.80615213 0.86416471 0.86306988\n",
      " 0.8685571  0.86858558        nan        nan]\n",
      "  warnings.warn(\n"
     ]
    },
    {
     "name": "stdout",
     "output_type": "stream",
     "text": [
      "CPU times: total: 16.8 s\n",
      "Wall time: 6min 55s\n"
     ]
    }
   ],
   "source": [
    "%%time\n",
    "# Hyperparameter tuning for SVM\n",
    "hyppipe2 = Pipeline([\n",
    "    ('tfidf', TfidfVectorizer(stop_words=stopword, sublinear_tf=True, strip_accents='unicode', \n",
    "                              token_pattern=r'\\b\\w+\\b', analyzer='word', ngram_range=(1, 1))),\n",
    "     ('classifier',OneVsRestClassifier(SVC(probability=True, class_weight='balanced', random_state=RS)))\n",
    "    ])\n",
    "\n",
    "param_grid2 = {'tfidf__max_features': [10000, 30000],\n",
    "               'classifier__estimator__kernel': ['linear', 'poly', 'rbf', 'sigmoid', 'precomputed']\n",
    "             } \n",
    "\n",
    "grid = GridSearchCV(hyppipe2, param_grid2, cv=10, scoring='roc_auc_ovr_weighted', n_jobs = -1)\n",
    "\n",
    "grid2 = grid.fit(X_train, Y_train)"
   ]
  },
  {
   "cell_type": "code",
   "execution_count": 41,
   "id": "e265bb33",
   "metadata": {},
   "outputs": [
    {
     "name": "stdout",
     "output_type": "stream",
     "text": [
      "OneVsRestClassifier(estimator=SVC(class_weight='balanced', kernel='linear',\n",
      "                                  probability=True, random_state=7))\n",
      "TfidfVectorizer(max_features=10000,\n",
      "                stop_words=['i', 'me', 'my', 'myself', 'we', 'our', 'ours',\n",
      "                            'ourselves', 'you', \"you're\", \"you've\", \"you'll\",\n",
      "                            \"you'd\", 'your', 'yours', 'yourself', 'yourselves',\n",
      "                            'he', 'him', 'his', 'himself', 'she', \"she's\",\n",
      "                            'her', 'hers', 'herself', 'it', \"it's\", 'its',\n",
      "                            'itself', ...],\n",
      "                strip_accents='unicode', sublinear_tf=True,\n",
      "                token_pattern='\\\\b\\\\w+\\\\b')\n"
     ]
    }
   ],
   "source": [
    "print(grid2.best_estimator_.named_steps['classifier'])\n",
    "print(grid2.best_estimator_.named_steps['tfidf'])"
   ]
  },
  {
   "cell_type": "code",
   "execution_count": 42,
   "id": "189e46f3",
   "metadata": {},
   "outputs": [
    {
     "data": {
      "text/plain": [
       "{'classifier__estimator__kernel': 'linear', 'tfidf__max_features': 10000}"
      ]
     },
     "execution_count": 42,
     "metadata": {},
     "output_type": "execute_result"
    }
   ],
   "source": [
    "grid2.best_params_"
   ]
  },
  {
   "cell_type": "code",
   "execution_count": 43,
   "id": "601f75be",
   "metadata": {
    "scrolled": true
   },
   "outputs": [],
   "source": [
    "hypepredictions2 = grid2.predict(X_test)\n",
    "hypepredictproba2 = grid2.predict_proba(X_test)"
   ]
  },
  {
   "cell_type": "code",
   "execution_count": 44,
   "id": "84877025",
   "metadata": {},
   "outputs": [
    {
     "name": "stdout",
     "output_type": "stream",
     "text": [
      "Classification report\n",
      "              precision    recall  f1-score   support\n",
      "\n",
      "          -1       0.65      0.51      0.57       100\n",
      "           0       0.67      0.76      0.71       241\n",
      "           1       0.84      0.82      0.83       491\n",
      "\n",
      "    accuracy                           0.77       832\n",
      "   macro avg       0.72      0.70      0.70       832\n",
      "weighted avg       0.77      0.77      0.77       832\n",
      "\n",
      "Confusion Matrix\n",
      "[[ 51  23  26]\n",
      " [  9 182  50]\n",
      " [ 19  67 405]]\n",
      "\n",
      "AUC ROC Score: 0.8825327229023052\n"
     ]
    }
   ],
   "source": [
    "# To evaluate the performance of the algorithms to testing set after hyperparameter tuning.\n",
    "print('Classification report', classification_report(Y_test, hypepredictions2), sep='\\n')\n",
    "print('Confusion Matrix', confusion_matrix(Y_test,hypepredictions2),sep='\\n')\n",
    "print(\"\\nAUC ROC Score:\", roc_auc_score(Y_test,hypepredictproba2, multi_class='ovr', average='weighted'))"
   ]
  },
  {
   "cell_type": "markdown",
   "id": "ab94ff4f",
   "metadata": {},
   "source": [
    "## RF"
   ]
  },
  {
   "cell_type": "code",
   "execution_count": 45,
   "id": "7d9882b0",
   "metadata": {},
   "outputs": [
    {
     "name": "stdout",
     "output_type": "stream",
     "text": [
      "CPU times: total: 3min 24s\n",
      "Wall time: 4h 53min 18s\n"
     ]
    }
   ],
   "source": [
    "%%time\n",
    "# Hyperparameter tuning for RF\n",
    "hyppipe3 = Pipeline([\n",
    "    ('tfidf', TfidfVectorizer(stop_words=stopword, sublinear_tf=True, strip_accents='unicode', \n",
    "                              token_pattern=r'\\b\\w+\\b', analyzer='word', ngram_range=(1, 1))),\n",
    "     ('classifier',RandomForestClassifier(class_weight='balanced', random_state=RS))\n",
    "    ])\n",
    "\n",
    "max_feature = [10000, 30000]\n",
    "n_estimators = [100, 500, 1000, 2000]\n",
    "max_depth = [10, 50, None]\n",
    "min_samples_split = [2, 5, 10]\n",
    "min_samples_leaf = [1, 5, 10] \n",
    "\n",
    "param_grid3 = {'tfidf__max_features': max_feature,    \n",
    "               'classifier__n_estimators': n_estimators,\n",
    "               'classifier__max_depth': max_depth,\n",
    "               'classifier__min_samples_split': min_samples_split,\n",
    "               'classifier__min_samples_leaf': min_samples_leaf,\n",
    "               'classifier__bootstrap': [True, False]\n",
    "             } \n",
    "\n",
    "grid = GridSearchCV(hyppipe3, param_grid3, cv=10, scoring='roc_auc_ovr_weighted', n_jobs=-1)\n",
    "\n",
    "grid3 = grid.fit(X_train, Y_train)"
   ]
  },
  {
   "cell_type": "code",
   "execution_count": null,
   "id": "810ca8a7",
   "metadata": {},
   "outputs": [],
   "source": [
    "# testing\n",
    "hyppipe3 = Pipeline([\n",
    "    ('tfidf', TfidfVectorizer(stop_words=stopword, sublinear_tf=True, strip_accents='unicode', \n",
    "                              token_pattern=r'\\b\\w+\\b', analyzer='word', ngram_range=(1, 1))),\n",
    "     ('classifier',RandomForestClassifier(class_weight='balanced', random_state=RS))\n",
    "    ])"
   ]
  },
  {
   "cell_type": "code",
   "execution_count": 46,
   "id": "868ddd7b",
   "metadata": {},
   "outputs": [
    {
     "name": "stdout",
     "output_type": "stream",
     "text": [
      "RandomForestClassifier(bootstrap=False, class_weight='balanced',\n",
      "                       min_samples_split=5, n_estimators=2000, random_state=7)\n",
      "TfidfVectorizer(max_features=30000,\n",
      "                stop_words=['i', 'me', 'my', 'myself', 'we', 'our', 'ours',\n",
      "                            'ourselves', 'you', \"you're\", \"you've\", \"you'll\",\n",
      "                            \"you'd\", 'your', 'yours', 'yourself', 'yourselves',\n",
      "                            'he', 'him', 'his', 'himself', 'she', \"she's\",\n",
      "                            'her', 'hers', 'herself', 'it', \"it's\", 'its',\n",
      "                            'itself', ...],\n",
      "                strip_accents='unicode', sublinear_tf=True,\n",
      "                token_pattern='\\\\b\\\\w+\\\\b')\n"
     ]
    }
   ],
   "source": [
    "print(grid3.best_estimator_.named_steps['classifier'])\n",
    "print(grid3.best_estimator_.named_steps['tfidf'])"
   ]
  },
  {
   "cell_type": "code",
   "execution_count": 47,
   "id": "2e6a60df",
   "metadata": {},
   "outputs": [
    {
     "data": {
      "text/plain": [
       "{'classifier__bootstrap': False,\n",
       " 'classifier__max_depth': None,\n",
       " 'classifier__min_samples_leaf': 1,\n",
       " 'classifier__min_samples_split': 5,\n",
       " 'classifier__n_estimators': 2000,\n",
       " 'tfidf__max_features': 30000}"
      ]
     },
     "execution_count": 47,
     "metadata": {},
     "output_type": "execute_result"
    }
   ],
   "source": [
    "grid3.best_params_"
   ]
  },
  {
   "cell_type": "code",
   "execution_count": 48,
   "id": "523303a3",
   "metadata": {},
   "outputs": [],
   "source": [
    "hypepredictions3 = grid3.predict(X_test)\n",
    "hypepredictproba3 = grid3.predict_proba(X_test)"
   ]
  },
  {
   "cell_type": "code",
   "execution_count": 49,
   "id": "55d4c671",
   "metadata": {},
   "outputs": [
    {
     "name": "stdout",
     "output_type": "stream",
     "text": [
      "Classification report\n",
      "              precision    recall  f1-score   support\n",
      "\n",
      "          -1       0.78      0.38      0.51       100\n",
      "           0       0.58      0.81      0.68       241\n",
      "           1       0.83      0.76      0.79       491\n",
      "\n",
      "    accuracy                           0.73       832\n",
      "   macro avg       0.73      0.65      0.66       832\n",
      "weighted avg       0.75      0.73      0.73       832\n",
      "\n",
      "Confusion Matrix\n",
      "[[ 38  31  31]\n",
      " [  2 195  44]\n",
      " [  9 109 373]]\n",
      "\n",
      "AUC ROC Score: 0.8678173119321954\n"
     ]
    }
   ],
   "source": [
    "# To evaluate the performance of the algorithms to testing set after hyperparameter tuning.\n",
    "print('Classification report', classification_report(Y_test, hypepredictions3), sep='\\n')\n",
    "print('Confusion Matrix', confusion_matrix(Y_test,hypepredictions3),sep='\\n')\n",
    "print(\"\\nAUC ROC Score:\", roc_auc_score(Y_test,hypepredictproba3, multi_class='ovr', average='weighted'))"
   ]
  },
  {
   "cell_type": "markdown",
   "id": "be30349f",
   "metadata": {},
   "source": [
    "# Stacking Models"
   ]
  },
  {
   "cell_type": "code",
   "execution_count": 50,
   "id": "ad85392e",
   "metadata": {
    "scrolled": true
   },
   "outputs": [],
   "source": [
    "stack = StackingClassifier([\n",
    "    ('LR', LogisticRegression(n_jobs=-1, random_state=RS)),\n",
    "    ('SVM',OneVsRestClassifier(SVC(probability=True, random_state=RS, \n",
    "                                       kernel='linear'), n_jobs=-1)),\n",
    "    ('RF', RandomForestClassifier(n_jobs=-1, random_state=RS))\n",
    "    ])"
   ]
  },
  {
   "cell_type": "code",
   "execution_count": 51,
   "id": "e5c1ff69",
   "metadata": {
    "scrolled": true
   },
   "outputs": [
    {
     "name": "stdout",
     "output_type": "stream",
     "text": [
      "CPU times: total: 6.7 s\n",
      "Wall time: 52.3 s\n"
     ]
    }
   ],
   "source": [
    "%%time\n",
    "stack_pipeline = Pipeline([\n",
    "    ('tfidf', TfidfVectorizer(stop_words=stopword, sublinear_tf=True, strip_accents='unicode', analyzer='word', \n",
    "                              token_pattern=r'\\b\\w+\\b', ngram_range=(1,1), max_features=30000)),\n",
    "    ('stack', stack),\n",
    "])\n",
    "\n",
    "stack_pipeline.fit(X_train, Y_train)\n",
    "stack_prediction = stack_pipeline.predict(X_test)\n",
    "stack_predictproba = stack_pipeline.predict_proba(X_test)"
   ]
  },
  {
   "cell_type": "code",
   "execution_count": 52,
   "id": "d6b44857",
   "metadata": {
    "scrolled": true
   },
   "outputs": [
    {
     "name": "stdout",
     "output_type": "stream",
     "text": [
      "Classification report\n",
      "              precision    recall  f1-score   support\n",
      "\n",
      "          -1       0.80      0.44      0.57       100\n",
      "           0       0.70      0.75      0.73       241\n",
      "           1       0.82      0.87      0.84       491\n",
      "\n",
      "    accuracy                           0.78       832\n",
      "   macro avg       0.77      0.69      0.71       832\n",
      "weighted avg       0.78      0.78      0.77       832\n",
      "\n",
      "Confusion Matrix\n",
      "[[ 44  20  36]\n",
      " [  1 181  59]\n",
      " [ 10  56 425]]\n",
      "\n",
      "AUC ROC Score: 0.8853820840995597\n"
     ]
    }
   ],
   "source": [
    "# To evaluate the performance of the algorithms to testing set.\n",
    "print(\"Classification report\", classification_report(Y_test, stack_prediction), sep=\"\\n\")\n",
    "print(\"Confusion Matrix\", confusion_matrix(Y_test, stack_prediction),sep=\"\\n\")\n",
    "print(\"\\nAUC ROC Score:\", roc_auc_score(Y_test,stack_predictproba, multi_class='ovr', average='weighted'))"
   ]
  },
  {
   "cell_type": "markdown",
   "id": "16c1ff77",
   "metadata": {},
   "source": [
    "# Hyperparameter for Stacking Model"
   ]
  },
  {
   "cell_type": "code",
   "execution_count": 53,
   "id": "60a37f90",
   "metadata": {},
   "outputs": [
    {
     "name": "stdout",
     "output_type": "stream",
     "text": [
      "CPU times: total: 37.3 s\n",
      "Wall time: 13h 9min 44s\n"
     ]
    }
   ],
   "source": [
    "%%time\n",
    "stack = StackingClassifier([\n",
    "    ('LR', LogisticRegression(class_weight='balanced', n_jobs=-1, random_state=RS)),\n",
    "    ('SVM',OneVsRestClassifier(SVC(class_weight='balanced', probability=True, random_state=RS, \n",
    "                                       kernel='linear'), n_jobs=-1)),\n",
    "    ('RF', RandomForestClassifier(class_weight='balanced', n_jobs=-1, random_state=RS))\n",
    "    ])\n",
    "\n",
    "stack_hyppipe = Pipeline([\n",
    "    ('tfidf', TfidfVectorizer(stop_words=stopword, sublinear_tf=True, strip_accents='unicode', analyzer='word', \n",
    "                              token_pattern=r'\\b\\w+\\b', ngram_range=(1,1))),\n",
    "    ('stack', stack),\n",
    "])\n",
    "\n",
    "max_feature = [5000, 10000, 30000]\n",
    "n_estimators = [100, 500, 1000]\n",
    "min_samples_split = [2, 5, 10]\n",
    "\n",
    "stack_param_grid = {'tfidf__max_features': max_feature,\n",
    "                    'stack__RF__n_estimators': n_estimators,\n",
    "                    'stack__RF__min_samples_split': min_samples_split,\n",
    "                    'stack__RF__bootstrap': [True, False]\n",
    "                   }\n",
    "\n",
    "grid = GridSearchCV(stack_hyppipe, stack_param_grid, cv=10, scoring='roc_auc_ovr_weighted', n_jobs=-1)\n",
    "\n",
    "stackgrid = grid.fit(X_train, Y_train)"
   ]
  },
  {
   "cell_type": "code",
   "execution_count": 54,
   "id": "84759938",
   "metadata": {
    "scrolled": true
   },
   "outputs": [
    {
     "name": "stdout",
     "output_type": "stream",
     "text": [
      "StackingClassifier(estimators=[('LR',\n",
      "                                LogisticRegression(class_weight='balanced',\n",
      "                                                   n_jobs=-1)),\n",
      "                               ('SVM',\n",
      "                                OneVsRestClassifier(estimator=SVC(class_weight='balanced',\n",
      "                                                                  kernel='linear',\n",
      "                                                                  probability=True,\n",
      "                                                                  random_state=7),\n",
      "                                                    n_jobs=-1)),\n",
      "                               ('RF',\n",
      "                                RandomForestClassifier(bootstrap=False,\n",
      "                                                       class_weight='balanced',\n",
      "                                                       min_samples_split=5,\n",
      "                                                       n_estimators=1000,\n",
      "                                                       n_jobs=-1))])\n",
      "TfidfVectorizer(max_features=5000,\n",
      "                stop_words=['i', 'me', 'my', 'myself', 'we', 'our', 'ours',\n",
      "                            'ourselves', 'you', \"you're\", \"you've\", \"you'll\",\n",
      "                            \"you'd\", 'your', 'yours', 'yourself', 'yourselves',\n",
      "                            'he', 'him', 'his', 'himself', 'she', \"she's\",\n",
      "                            'her', 'hers', 'herself', 'it', \"it's\", 'its',\n",
      "                            'itself', ...],\n",
      "                strip_accents='unicode', sublinear_tf=True,\n",
      "                token_pattern='\\\\b\\\\w+\\\\b')\n"
     ]
    }
   ],
   "source": [
    "print(stackgrid.best_estimator_.named_steps['stack'])\n",
    "print(stackgrid.best_estimator_.named_steps['tfidf'])"
   ]
  },
  {
   "cell_type": "code",
   "execution_count": 55,
   "id": "77802bc2",
   "metadata": {},
   "outputs": [
    {
     "data": {
      "text/plain": [
       "{'stack__RF__bootstrap': False,\n",
       " 'stack__RF__min_samples_split': 5,\n",
       " 'stack__RF__n_estimators': 1000,\n",
       " 'tfidf__max_features': 5000}"
      ]
     },
     "execution_count": 55,
     "metadata": {},
     "output_type": "execute_result"
    }
   ],
   "source": [
    "stackgrid.best_params_"
   ]
  },
  {
   "cell_type": "code",
   "execution_count": 56,
   "id": "a4f27fe3",
   "metadata": {},
   "outputs": [],
   "source": [
    "stack_hypepredictions = stackgrid.predict(X_test)\n",
    "stack_hypepredictproba = stackgrid.predict_proba(X_test)"
   ]
  },
  {
   "cell_type": "code",
   "execution_count": 57,
   "id": "bd739275",
   "metadata": {},
   "outputs": [
    {
     "name": "stdout",
     "output_type": "stream",
     "text": [
      "Classification report\n",
      "              precision    recall  f1-score   support\n",
      "\n",
      "          -1       0.72      0.47      0.57       100\n",
      "           0       0.74      0.76      0.75       241\n",
      "           1       0.82      0.87      0.85       491\n",
      "\n",
      "    accuracy                           0.79       832\n",
      "   macro avg       0.76      0.70      0.72       832\n",
      "weighted avg       0.79      0.79      0.78       832\n",
      "\n",
      "Confusion Matrix\n",
      "[[ 47  17  36]\n",
      " [  3 182  56]\n",
      " [ 15  48 428]]\n",
      "\n",
      "AUC ROC Score: 0.8984545916130635\n"
     ]
    }
   ],
   "source": [
    "# To evaluate the performance of the algorithms to testing set after hyperparameter tuning.\n",
    "print('Classification report', classification_report(Y_test, stack_hypepredictions), sep='\\n')\n",
    "print('Confusion Matrix', confusion_matrix(Y_test,stack_hypepredictions),sep='\\n')\n",
    "print(\"\\nAUC ROC Score:\", roc_auc_score(Y_test,stack_hypepredictproba, multi_class='ovr', average='weighted'))"
   ]
  },
  {
   "cell_type": "code",
   "execution_count": null,
   "id": "93e95498",
   "metadata": {},
   "outputs": [],
   "source": []
  },
  {
   "cell_type": "markdown",
   "id": "010a7ed7",
   "metadata": {},
   "source": [
    "# Testing of Stacking Model"
   ]
  },
  {
   "cell_type": "code",
   "execution_count": 15,
   "id": "cae58a4a",
   "metadata": {},
   "outputs": [
    {
     "name": "stdout",
     "output_type": "stream",
     "text": [
      "CPU times: total: 49.8 s\n",
      "Wall time: 7min 29s\n"
     ]
    }
   ],
   "source": [
    "%%time\n",
    "stackt = StackingClassifier([\n",
    "    ('LR', LogisticRegression(class_weight='balanced',n_jobs=-1, random_state=RS)),\n",
    "    ('SVM',OneVsRestClassifier(SVC(class_weight='balanced', probability=True, random_state=RS, \n",
    "                                       kernel='linear'), n_jobs=-1)),\n",
    "    ('RF', RandomForestClassifier(bootstrap=False,class_weight='balanced',\n",
    "                                  min_samples_split=5,n_estimators=2000,n_jobs=-1, random_state=RS))\n",
    "    ])\n",
    "\n",
    "\n",
    "stackt_pipeline = Pipeline([\n",
    "    ('tfidf', TfidfVectorizer(stop_words=stopword, sublinear_tf=True, strip_accents='unicode', analyzer='word', \n",
    "                              token_pattern=r'\\b\\w+\\b', ngram_range=(1,1), max_features=5000)),\n",
    "    ('stack', stackt),\n",
    "])\n",
    "\n",
    "stackt_pipeline.fit(X_train, Y_train)\n",
    "stack_predictiont = stackt_pipeline.predict(X_test)\n",
    "stack_predictprobat = stackt_pipeline.predict_proba(X_test)"
   ]
  },
  {
   "cell_type": "code",
   "execution_count": 16,
   "id": "b402b644",
   "metadata": {},
   "outputs": [
    {
     "name": "stdout",
     "output_type": "stream",
     "text": [
      "Classification report\n",
      "              precision    recall  f1-score   support\n",
      "\n",
      "          -1       0.76      0.50      0.60       100\n",
      "           0       0.73      0.75      0.74       241\n",
      "           1       0.82      0.87      0.85       491\n",
      "\n",
      "    accuracy                           0.79       832\n",
      "   macro avg       0.77      0.71      0.73       832\n",
      "weighted avg       0.79      0.79      0.79       832\n",
      "\n",
      "Confusion Matrix\n",
      "[[ 50  16  34]\n",
      " [  3 181  57]\n",
      " [ 13  50 428]]\n",
      "\n",
      "AUC ROC Score: 0.8987902457726457\n"
     ]
    }
   ],
   "source": [
    "# To evaluate the performance of the algorithms to testing set.\n",
    "print(\"Classification report\", classification_report(Y_test, stack_predictiont), sep=\"\\n\")\n",
    "print(\"Confusion Matrix\", confusion_matrix(Y_test, stack_predictiont),sep=\"\\n\")\n",
    "print(\"\\nAUC ROC Score:\", roc_auc_score(Y_test,stack_predictprobat, multi_class='ovr', average='weighted'))"
   ]
  },
  {
   "cell_type": "code",
   "execution_count": null,
   "id": "8a9e9996",
   "metadata": {},
   "outputs": [],
   "source": []
  },
  {
   "cell_type": "markdown",
   "id": "82560e67",
   "metadata": {},
   "source": [
    "# Graphs"
   ]
  },
  {
   "cell_type": "markdown",
   "id": "3b458c91",
   "metadata": {},
   "source": [
    "## Before Hyperparameter Tuning"
   ]
  },
  {
   "cell_type": "code",
   "execution_count": 60,
   "id": "baadb81e",
   "metadata": {},
   "outputs": [],
   "source": [
    "# Assign value of all performance metrics before hyperparameter tuning\n",
    "accuracy1 = round(accuracy_score(Y_test, predictions1),3)\n",
    "accuracy2 = round(accuracy_score(Y_test, predictions2),3)\n",
    "accuracy3 = round(accuracy_score(Y_test, predictions3),3)\n",
    "accuracy4 = round(accuracy_score(Y_test, predictions4),3)\n",
    "accuracy5 = round(accuracy_score(Y_test, predictions5),3)\n",
    "accuracy6 = round(accuracy_score(Y_test, predictions6),3)\n",
    "accuracy7 = round(accuracy_score(Y_test, stack_prediction),3)\n",
    "precision1,recall1,fscore1,support1 = score(Y_test,predictions1,average='weighted')\n",
    "precision2,recall2,fscore2,support2 = score(Y_test,predictions2,average='weighted')\n",
    "precision3,recall3,fscore3,support3 = score(Y_test,predictions3,average='weighted')\n",
    "precision4,recall4,fscore4,support4 = score(Y_test,predictions4,average='weighted')\n",
    "precision5,recall5,fscore5,support5 = score(Y_test,predictions5,average='weighted')\n",
    "precision6,recall6,fscore6,support6 = score(Y_test,predictions6,average='weighted')\n",
    "precision7,recall7,fscore7,support7 = score(Y_test,stack_prediction,average='weighted')\n",
    "AUCROC1 = round(roc_auc_score(Y_test,predictproba1, multi_class='ovr', average='weighted'),3)\n",
    "AUCROC2 = round(roc_auc_score(Y_test,predictproba2, multi_class='ovr', average='weighted'),3)\n",
    "AUCROC3 = round(roc_auc_score(Y_test,predictproba3, multi_class='ovr', average='weighted'),3)\n",
    "AUCROC4 = round(roc_auc_score(Y_test,predictproba4, multi_class='ovr', average='weighted'),3)\n",
    "AUCROC5 = round(roc_auc_score(Y_test,predictproba5, multi_class='ovr', average='weighted'),3)\n",
    "AUCROC6 = round(roc_auc_score(Y_test,predictproba6, multi_class='ovr', average='weighted'),3)\n",
    "AUCROC7 = round(roc_auc_score(Y_test,stack_predictproba, multi_class='ovr', average='weighted'),3)"
   ]
  },
  {
   "cell_type": "code",
   "execution_count": 61,
   "id": "89ab8d50",
   "metadata": {
    "scrolled": false
   },
   "outputs": [
    {
     "data": {
      "text/html": [
       "<div>\n",
       "<style scoped>\n",
       "    .dataframe tbody tr th:only-of-type {\n",
       "        vertical-align: middle;\n",
       "    }\n",
       "\n",
       "    .dataframe tbody tr th {\n",
       "        vertical-align: top;\n",
       "    }\n",
       "\n",
       "    .dataframe thead th {\n",
       "        text-align: right;\n",
       "    }\n",
       "</style>\n",
       "<table border=\"1\" class=\"dataframe\">\n",
       "  <thead>\n",
       "    <tr style=\"text-align: right;\">\n",
       "      <th></th>\n",
       "      <th>Model</th>\n",
       "      <th>Accuracy</th>\n",
       "      <th>Precision</th>\n",
       "      <th>Recall</th>\n",
       "      <th>F-Measure</th>\n",
       "      <th>AUC ROC</th>\n",
       "    </tr>\n",
       "  </thead>\n",
       "  <tbody>\n",
       "    <tr>\n",
       "      <th>0</th>\n",
       "      <td>LR</td>\n",
       "      <td>0.719</td>\n",
       "      <td>0.750</td>\n",
       "      <td>0.719</td>\n",
       "      <td>0.672</td>\n",
       "      <td>0.865</td>\n",
       "    </tr>\n",
       "    <tr>\n",
       "      <th>1</th>\n",
       "      <td>Multinomial NB</td>\n",
       "      <td>0.632</td>\n",
       "      <td>0.745</td>\n",
       "      <td>0.632</td>\n",
       "      <td>0.529</td>\n",
       "      <td>0.837</td>\n",
       "    </tr>\n",
       "    <tr>\n",
       "      <th>2</th>\n",
       "      <td>SVM</td>\n",
       "      <td>0.713</td>\n",
       "      <td>0.765</td>\n",
       "      <td>0.713</td>\n",
       "      <td>0.665</td>\n",
       "      <td>0.866</td>\n",
       "    </tr>\n",
       "    <tr>\n",
       "      <th>3</th>\n",
       "      <td>DT</td>\n",
       "      <td>0.624</td>\n",
       "      <td>0.627</td>\n",
       "      <td>0.624</td>\n",
       "      <td>0.622</td>\n",
       "      <td>0.662</td>\n",
       "    </tr>\n",
       "    <tr>\n",
       "      <th>4</th>\n",
       "      <td>RF</td>\n",
       "      <td>0.715</td>\n",
       "      <td>0.733</td>\n",
       "      <td>0.715</td>\n",
       "      <td>0.697</td>\n",
       "      <td>0.845</td>\n",
       "    </tr>\n",
       "    <tr>\n",
       "      <th>5</th>\n",
       "      <td>GB</td>\n",
       "      <td>0.696</td>\n",
       "      <td>0.693</td>\n",
       "      <td>0.696</td>\n",
       "      <td>0.677</td>\n",
       "      <td>0.832</td>\n",
       "    </tr>\n",
       "    <tr>\n",
       "      <th>6</th>\n",
       "      <td>Stacking</td>\n",
       "      <td>0.781</td>\n",
       "      <td>0.782</td>\n",
       "      <td>0.781</td>\n",
       "      <td>0.775</td>\n",
       "      <td>0.885</td>\n",
       "    </tr>\n",
       "  </tbody>\n",
       "</table>\n",
       "</div>"
      ],
      "text/plain": [
       "            Model  Accuracy  Precision  Recall  F-Measure  AUC ROC\n",
       "0              LR     0.719      0.750   0.719      0.672    0.865\n",
       "1  Multinomial NB     0.632      0.745   0.632      0.529    0.837\n",
       "2             SVM     0.713      0.765   0.713      0.665    0.866\n",
       "3              DT     0.624      0.627   0.624      0.622    0.662\n",
       "4              RF     0.715      0.733   0.715      0.697    0.845\n",
       "5              GB     0.696      0.693   0.696      0.677    0.832\n",
       "6        Stacking     0.781      0.782   0.781      0.775    0.885"
      ]
     },
     "execution_count": 61,
     "metadata": {},
     "output_type": "execute_result"
    }
   ],
   "source": [
    "# Form dataframe for performance metrics before hyperparameter tuning\n",
    "performetrictbl = pd.DataFrame({\n",
    "    'Model': ['LR', 'Multinomial NB', 'SVM', 'DT', 'RF', 'GB', 'Stacking'],\n",
    "    'Accuracy': [accuracy1, accuracy2, accuracy3, accuracy4, accuracy5, accuracy6, accuracy7],\n",
    "    'Precision': list(map(lambda x:round(x,3),[precision1, precision2, precision3, precision4, precision5, precision6,\n",
    "                                              precision7])),\n",
    "    'Recall': list(map(lambda x:round(x,3),[recall1, recall2, recall3, recall4, recall5, recall6, recall7])),\n",
    "    'F-Measure': list(map(lambda x:round(x,3),[fscore1, fscore2, fscore3, fscore4, fscore5, fscore6, fscore7])),\n",
    "    'AUC ROC': [AUCROC1, AUCROC2, AUCROC3, AUCROC4, AUCROC5, AUCROC6, AUCROC7]\n",
    "})\n",
    "\n",
    "performetrictbl"
   ]
  },
  {
   "cell_type": "code",
   "execution_count": 62,
   "id": "233a84c9",
   "metadata": {
    "scrolled": false
   },
   "outputs": [
    {
     "data": {
      "image/png": "[encoded data removed]",
      "text/plain": [
       "<Figure size 792x504 with 1 Axes>"
      ]
     },
     "metadata": {
      "needs_background": "light"
     },
     "output_type": "display_data"
    }
   ],
   "source": [
    "# Plot a bar chart to display the dataframe for performance metrics before hyperparameter tuning\n",
    "\n",
    "fig = plt.figure(figsize =(11, 7))\n",
    "\n",
    "# set width of bar\n",
    "barWidth = 0.15\n",
    "\n",
    "ax = fig.add_axes([0,0,1,1])\n",
    "\n",
    "# Set position of bar on X axis\n",
    "br1 = np.arange(performetrictbl.shape[0])\n",
    "br2 = br1 + barWidth\n",
    "br3 = br2 + barWidth\n",
    "br4 = br3 + barWidth\n",
    "br5 = br4 + barWidth\n",
    "\n",
    "ax.bar(br1, performetrictbl['Accuracy']*100, color = '#6699ff', width = barWidth, label = 'Accuracy')\n",
    "ax.bar(br2, performetrictbl['Precision']*100, color = '#dd99ff', width = barWidth, label = 'Precision')\n",
    "ax.bar(br3, performetrictbl['Recall']*100, color = '#ff9900', width = barWidth, label = 'Recall')\n",
    "ax.bar(br4, performetrictbl['F-Measure']*100, color = '#ffff00', width = barWidth, label = 'F-Measure')\n",
    "ax.bar(br5, performetrictbl['AUC ROC']*100, color = '#99ff33', width = barWidth, label = 'AUC ROC')\n",
    "\n",
    "ax.set_title('Performance Metrics of Each Algorithms Before Hyperparameter Tuning', fontsize = 20, fontweight ='bold')\n",
    "ax.set_xlabel('Algorithms', fontsize = 15, fontweight ='bold')\n",
    "ax.set_ylabel('Percentages (%)', fontsize = 15, fontweight ='bold')\n",
    "\n",
    "# Add x, y gridlines\n",
    "ax.grid(visible = True, color ='grey',\n",
    "         linestyle ='-.', linewidth = 0.5,\n",
    "         alpha = 0.6)\n",
    "\n",
    "# Name the algorithms in x-axis\n",
    "plt.xticks([x + 2*barWidth for x in range(performetrictbl.shape[0])], list(performetrictbl['Model']), fontsize = 13)\n",
    "plt.yticks(fontsize = 12)\n",
    "   \n",
    "plt.legend(bbox_to_anchor=(1.02, 1), loc='upper left', borderaxespad=0, fontsize = 13)\n",
    "plt.show()"
   ]
  },
  {
   "cell_type": "markdown",
   "id": "ea1df376",
   "metadata": {},
   "source": [
    "### AUC ROC graph"
   ]
  },
  {
   "cell_type": "markdown",
   "id": "66a74d76",
   "metadata": {},
   "source": [
    "https://scikit-learn.org/stable/auto_examples/model_selection/plot_roc.html#sphx-glr-auto-examples-model-selection-plot-roc-py"
   ]
  },
  {
   "cell_type": "markdown",
   "id": "50410b11",
   "metadata": {},
   "source": [
    "Unable to plot AUC ROC graph for weighted average AUCROC"
   ]
  },
  {
   "cell_type": "code",
   "execution_count": null,
   "id": "3d83907d",
   "metadata": {},
   "outputs": [],
   "source": []
  },
  {
   "cell_type": "markdown",
   "id": "ba75ca32",
   "metadata": {},
   "source": [
    "## After Hyperparameter Tuning and Stacking"
   ]
  },
  {
   "cell_type": "code",
   "execution_count": 63,
   "id": "ad3eb88a",
   "metadata": {},
   "outputs": [],
   "source": [
    "# Assign value of all performance metrics after hyperparameter tuning and stacking\n",
    "hypeaccuracy1 = round(accuracy_score(Y_test, hypepredictions1),3)\n",
    "hypeaccuracy2 = round(accuracy_score(Y_test, hypepredictions2),3)\n",
    "hypeaccuracy3 = round(accuracy_score(Y_test, hypepredictions3),3)\n",
    "stackaccuracy = round(accuracy_score(Y_test, stack_hypepredictions),3)\n",
    "hypeprecision1,hyperecall1,hypefscore1,hypesupport1 = score(Y_test,hypepredictions1,average='weighted')\n",
    "hypeprecision2,hyperecall2,hypefscore2,hypesupport2 = score(Y_test,hypepredictions2,average='weighted')\n",
    "hypeprecision3,hyperecall3,hypefscore3,hypesupport3 = score(Y_test,hypepredictions3,average='weighted')\n",
    "stackprecision, stackrecall, stackfscore, stacksupport = score(Y_test,stack_hypepredictions,average='weighted')\n",
    "hypeAUCROC1 = round(roc_auc_score(Y_test,hypepredictproba1, multi_class='ovr', average='weighted'),3)\n",
    "hypeAUCROC2 = round(roc_auc_score(Y_test,hypepredictproba2, multi_class='ovr', average='weighted'),3)\n",
    "hypeAUCROC3 = round(roc_auc_score(Y_test,hypepredictproba3, multi_class='ovr', average='weighted'),3)\n",
    "stackAUCROC = round(roc_auc_score(Y_test,stack_hypepredictproba, multi_class='ovr', average='weighted'),3)"
   ]
  },
  {
   "cell_type": "code",
   "execution_count": 64,
   "id": "206c9306",
   "metadata": {},
   "outputs": [
    {
     "data": {
      "text/html": [
       "<div>\n",
       "<style scoped>\n",
       "    .dataframe tbody tr th:only-of-type {\n",
       "        vertical-align: middle;\n",
       "    }\n",
       "\n",
       "    .dataframe tbody tr th {\n",
       "        vertical-align: top;\n",
       "    }\n",
       "\n",
       "    .dataframe thead th {\n",
       "        text-align: right;\n",
       "    }\n",
       "</style>\n",
       "<table border=\"1\" class=\"dataframe\">\n",
       "  <thead>\n",
       "    <tr style=\"text-align: right;\">\n",
       "      <th></th>\n",
       "      <th>Model</th>\n",
       "      <th>Accuracy</th>\n",
       "      <th>Precision</th>\n",
       "      <th>Recall</th>\n",
       "      <th>F1-Score</th>\n",
       "      <th>AUC ROC</th>\n",
       "    </tr>\n",
       "  </thead>\n",
       "  <tbody>\n",
       "    <tr>\n",
       "      <th>0</th>\n",
       "      <td>LR</td>\n",
       "      <td>0.722</td>\n",
       "      <td>0.733</td>\n",
       "      <td>0.722</td>\n",
       "      <td>0.726</td>\n",
       "      <td>0.864</td>\n",
       "    </tr>\n",
       "    <tr>\n",
       "      <th>1</th>\n",
       "      <td>SVM</td>\n",
       "      <td>0.767</td>\n",
       "      <td>0.768</td>\n",
       "      <td>0.767</td>\n",
       "      <td>0.766</td>\n",
       "      <td>0.883</td>\n",
       "    </tr>\n",
       "    <tr>\n",
       "      <th>2</th>\n",
       "      <td>RF</td>\n",
       "      <td>0.728</td>\n",
       "      <td>0.753</td>\n",
       "      <td>0.728</td>\n",
       "      <td>0.726</td>\n",
       "      <td>0.868</td>\n",
       "    </tr>\n",
       "    <tr>\n",
       "      <th>3</th>\n",
       "      <td>Stacking</td>\n",
       "      <td>0.790</td>\n",
       "      <td>0.786</td>\n",
       "      <td>0.790</td>\n",
       "      <td>0.784</td>\n",
       "      <td>0.898</td>\n",
       "    </tr>\n",
       "  </tbody>\n",
       "</table>\n",
       "</div>"
      ],
      "text/plain": [
       "      Model  Accuracy  Precision  Recall  F1-Score  AUC ROC\n",
       "0        LR     0.722      0.733   0.722     0.726    0.864\n",
       "1       SVM     0.767      0.768   0.767     0.766    0.883\n",
       "2        RF     0.728      0.753   0.728     0.726    0.868\n",
       "3  Stacking     0.790      0.786   0.790     0.784    0.898"
      ]
     },
     "execution_count": 64,
     "metadata": {},
     "output_type": "execute_result"
    }
   ],
   "source": [
    "# Form dataframe for performance metrics after hyperparameter tuning\n",
    "hypeperformetrictbl = pd.DataFrame({\n",
    "    'Model': ['LR', 'SVM', 'RF', 'Stacking'],\n",
    "    'Accuracy': [hypeaccuracy1, hypeaccuracy2, hypeaccuracy3, stackaccuracy],\n",
    "    'Precision': list(map(lambda x:round(x,3),[hypeprecision1, hypeprecision2, hypeprecision3, stackprecision])),\n",
    "    'Recall': list(map(lambda x:round(x,3),[hyperecall1, hyperecall2, hyperecall3, stackrecall])),\n",
    "    'F1-Score': list(map(lambda x:round(x,3),[hypefscore1, hypefscore2, hypefscore3, stackfscore])),\n",
    "    'AUC ROC': [hypeAUCROC1, hypeAUCROC2, hypeAUCROC3, stackAUCROC]\n",
    "})\n",
    "\n",
    "hypeperformetrictbl"
   ]
  },
  {
   "cell_type": "code",
   "execution_count": 66,
   "id": "3740f5e9",
   "metadata": {},
   "outputs": [
    {
     "data": {
      "image/png": "[encoded data removed]",
      "text/plain": [
       "<Figure size 792x504 with 1 Axes>"
      ]
     },
     "metadata": {
      "needs_background": "light"
     },
     "output_type": "display_data"
    }
   ],
   "source": [
    "# Plot a bar chart to display the dataframe for performance metrics after hyperparameter tuning\n",
    "\n",
    "fig = plt.figure(figsize =(11, 7))\n",
    "\n",
    "# set width of bar\n",
    "barWidth = 0.15\n",
    "\n",
    "ax = fig.add_axes([0,0,1,1])\n",
    "\n",
    "# Set position of bar on X axis\n",
    "br1 = np.arange(hypeperformetrictbl.shape[0])\n",
    "br2 = br1 + barWidth\n",
    "br3 = br2 + barWidth\n",
    "br4 = br3 + barWidth\n",
    "br5 = br4 + barWidth\n",
    "\n",
    "ax.bar(br1, hypeperformetrictbl['Accuracy']*100, color = '#6699ff', width = barWidth, label = 'Accuracy')\n",
    "ax.bar(br2, hypeperformetrictbl['Precision']*100, color = '#dd99ff', width = barWidth, label = 'Precision')\n",
    "ax.bar(br3, hypeperformetrictbl['Recall']*100, color = '#ff9900', width = barWidth, label = 'Recall')\n",
    "ax.bar(br4, hypeperformetrictbl['F1-Score']*100, color = '#ffff00', width = barWidth, label = 'F1-Score')\n",
    "ax.bar(br5, hypeperformetrictbl['AUC ROC']*100, color = '#99ff33', width = barWidth, label = 'AUC ROC')\n",
    "\n",
    "ax.set_title('Performance Metrics of Each Algorithms After Hyperparameter Tuning', \n",
    "             fontsize = 20, fontweight ='bold')\n",
    "ax.set_xlabel('Algorithms', fontsize = 15, fontweight ='bold')\n",
    "ax.set_ylabel('Percentages (%)', fontsize = 15, fontweight ='bold')\n",
    "\n",
    "# Add x, y gridlines\n",
    "ax.grid(visible = True, color ='grey',\n",
    "         linestyle ='-.', linewidth = 0.5,\n",
    "         alpha = 0.6)\n",
    "\n",
    "# Name the algorithms in x-axis\n",
    "plt.xticks([x + 2*barWidth for x in range(hypeperformetrictbl.shape[0])], list(hypeperformetrictbl['Model']), fontsize = 13)\n",
    "plt.yticks(fontsize = 12)\n",
    "   \n",
    "plt.legend(bbox_to_anchor=(1.02, 1), loc='upper left', borderaxespad=0, fontsize = 13)\n",
    "plt.show()"
   ]
  },
  {
   "cell_type": "code",
   "execution_count": null,
   "id": "d1372d8b",
   "metadata": {},
   "outputs": [],
   "source": []
  },
  {
   "cell_type": "code",
   "execution_count": null,
   "id": "15dadd9c",
   "metadata": {},
   "outputs": [],
   "source": []
  }
 ],
 "metadata": {
  "kernelspec": {
   "display_name": "Python 3 (ipykernel)",
   "language": "python",
   "name": "python3"
  },
  "language_info": {
   "codemirror_mode": {
    "name": "ipython",
    "version": 3
   },
   "file_extension": ".py",
   "mimetype": "text/x-python",
   "name": "python",
   "nbconvert_exporter": "python",
   "pygments_lexer": "ipython3",
   "version": "3.10.6"
  }
 },
 "nbformat": 4,
 "nbformat_minor": 5
}
